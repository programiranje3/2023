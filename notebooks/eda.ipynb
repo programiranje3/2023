{
 "cells": [
  {
   "cell_type": "markdown",
   "source": [
    "# Exploratory data analysis\n",
    "Introduction to exploratory data analysis (EDA)."
   ],
   "metadata": {
    "collapsed": false
   }
  },
  {
   "cell_type": "markdown",
   "source": [
    "EDA is an approach to analyzing datasets to summarize their main characteristics, often with visual methods. EDA is used for seeing what the data can tell us before the modeling task [(source 1)](https://chartio.com/learn/data-analytics/what-is-exploratory-data-analysis/). It is used to explore the data, find different patterns, relations, and anomalies in the data using some statistical graphs and other visualization techniques, and possibly formulate hypotheses that could lead to new data collection and experiments [(source 2)](https://www.analyticsvidhya.com/blog/2021/08/how-to-perform-exploratory-data-analysis-a-guide-for-beginners/). More specifically, EDA enables analysts to:\n",
    "1. get maximum insights from a data set\n",
    "2. uncover underlying structure\n",
    "3. extract important variables from the dataset\n",
    "4. detect outliers and anomalies (if any)\n",
    "5. test underlying assumptions\n",
    "6. determine the optimal factor settings"
   ],
   "metadata": {
    "collapsed": false
   }
  },
  {
   "cell_type": "markdown",
   "source": [
    "## EDA steps and tools\n",
    "Practical steps in conducting EDA and frequently used EDA tools.\n",
    "Based on *pandas2020-main.Sales_Analysis_Pandas_P3_tutorial.ipynb* and *pandas2020-main.TED_Talks_Pandas_P3_tutorial.ipynb*.\n"
   ],
   "metadata": {
    "collapsed": false
   }
  },
  {
   "cell_type": "markdown",
   "source": [
    "Based on [this](https://stackoverflow.com/a/22149930/1899061), in all computations, `axis=...` refers to the axis **along which** the computation is done. By default, `axis=0`. This is consistent with the `numpy.mean` usage when axis is specified explicitly (in `numpy.mean`, `axis==None` by default, which computes the mean value over the flattened array), in which `axis=0` along the rows (namely, index in pandas), and `axis=1` along the columns.\n",
    "Note also that that `axis=0` indicates aggregating along rows and `axis=1` indicates aggregating along columns. This is consistent with how we index into a dataframe. In `df.iloc[<row>, <column>]`, `<row>` is in index position 0 and `<column>` is in index position 1. For added clarity, one may choose to specify `axis='index'` (instead of `axis=0`) or `axis='columns'` (instead of `axis=1`).\n",
    "**But**, `axis=0` means each row as a bulk - we manipulate a `pd.DataFrame` inter-row, instead of within-row. Likewise, 1 means each column as a bulk, i.e. we manipulate a `pd.DataFrame` inter-column instead of within-column. For example, `<pd.df>.drop(\"A\", axis=1)` will drop a whole column."
   ],
   "metadata": {
    "collapsed": false
   }
  },
  {
   "cell_type": "markdown",
   "source": [
    "### Reading the dataset\n",
    "- `pd.read_csv()`"
   ],
   "metadata": {
    "collapsed": false
   }
  },
  {
   "cell_type": "markdown",
   "source": [
    "### Initial examination and adaptations\n",
    "- `<pd.df>.shape`, `<pd.df>.head()`, `<pd.df>.tail()`, `<pd.df>.sample()`, `<pd.df>.dtypes`, `<pd.df>.info()`, `<pd.df>.describe()`\n",
    "- `<pd.df>.columns`, `<pd.df>.columns.values`, `<pd.df>.columns.values.tolist()`, `<pd.df>.values`\n",
    "- `<pd.df>.rename({'<column_1 old name>':'<column_1 new name>', '<column_2 old name>':'<column_2 new name>', ...}, axis='columns')`, `<pd.df>.columns = ['<column_1 name>', '<column_2 name>', ...]` (change the names of all columns in <pd.df>)\n",
    "- `ast.literal_eval()` (using Python's *ast* module to transform a string into a literal value, a list, a tuple or any other container object)"
   ],
   "metadata": {
    "collapsed": false
   }
  },
  {
   "cell_type": "markdown",
   "source": [
    "##### Missing values and value counts\n",
    "- `sb.heatmap()`, e.g. `sb.heatmap(<pd.df>.isna(),cbar=False,cmap='viridis')` ([example](https://www.analyticsvidhya.com/blog/2021/08/how-to-perform-exploratory-data-analysis-a-guide-for-beginners/))\n",
    "- `<pd.df>.isna()` (`<pd.df>.isnull()`), `<pd.df>.isna().sum()` (`<pd.df>.isnull().sum`) ([example](https://www.analyticsvidhya.com/blog/2021/08/how-to-perform-exploratory-data-analysis-a-guide-for-beginners/))\n",
    "- `<pd.df>['<column>'].value_counts()` (shows only the rows without NAs (default: dropna=True), check shape)\n",
    "- `<pd.df>['<column>'].value_counts(normalize=True)` (show proportions, rather than frequencies)\n",
    "- `<pd.Series>.dropna(how='all'/'any', inplace=True)` (return a new `<pd.Series>` object with missing values removed)\n",
    "\n",
    "The `cmap` parameter of `sb.heatmap()` denotes a [Matplotlib colormap](https://matplotlib.org/stable/tutorials/colors/colormaps.html#classes-of-colormaps) (`viridis`, `cividis`, `tab20`, `winter`, `BuPu_r`, `ocean`,...)."
   ],
   "metadata": {
    "collapsed": false
   }
  },
  {
   "cell_type": "markdown",
   "source": [
    "### Examining individual data items, rows and columns\n",
    "- `<pd.df>.sample()`\n",
    "- Simple indexing and fancy indexing: `<pd.df>.iloc[]`, `<pd.df>.loc[]`\n",
    "- `<pd.df>.index`, `<pd.df>.index[<from>:<to>]`, `<pd.df>.reset_index(drop=True, inplace=True)`\n",
    "- Indexing using list of values: `<pd.df>.loc[<pd.df>.<column>.isin(<list of values>)]` (select those observations where the value of `<column>` is in the `<list of values>`)\n",
    "- Indexing in data stats: `<pd.df>.describe().loc['50%', '<column_name>']` (select the median of `<column_name>` from the `<pd.df>` stats computed by `describe()`)"
   ],
   "metadata": {
    "collapsed": false
   }
  },
  {
   "cell_type": "markdown",
   "source": [
    "### Grouping and sorting data\n",
    "- `<pd.df>['<column>'].unique()`, `<pd.df>['<column>'].nunique()`\n",
    "- `<pd.df>['<column>'].groupby()`, `<pd.df>['<column>'].groupby().get_group()`\n",
    "- `<pd.df>['<column>'].value_counts()`, `<pd.df>['<column>'].value_counts().sort_index()`, `<pd.df>['<column>'].value_counts().sort_index(inplace=True)`\n",
    "- `<pd.df>.sort_values(by='<column name>', ascending=False/True)`\n",
    "- `<pd.df>.groupby('<column>').<another column>.<f()>.sort_values(ascending=False)` (aggregate using function `f()`, e.g. `mean()`)\n",
    "- `<pd.df>.groupby('<column>').<another column>.agg(['<f1 name>', '<f2 name>', ...])` (aggregate using multiple functions, e.g. `mean()`, `count()`,...)\n",
    "\n",
    "If `sort_values()` is used after `agg(['f1 name>', '<f2 name>', ...])` (`agg(['<f1 name>', '<f2 name>', ...]).sort_values(by='<f name>', ascending=False)`), it must be passed one positional argument (`by='<f name>'`) before the optional `ascending=False`.\n"
   ],
   "metadata": {
    "collapsed": false
   }
  },
  {
   "cell_type": "markdown",
   "source": [
    "### Data transformations\n",
    "- `<pd.df>.describe()`\n",
    "- `pd.to_numeric(<pd.DataFrame object>['<column name>'], errors='coerce')`, `pd.DataFrame.to_numpy()`, `pd.Series.to_numpy()`, `pd.to_datetime()`, ...\n",
    "- `<pd.df>.<column>.apply(<f_name>)` (apply the <f_name> function to all elements of each element of the `<column>`; for example, each element of the `<column>` can be a list of other elements)\n"
   ],
   "metadata": {
    "collapsed": false
   }
  },
  {
   "cell_type": "markdown",
   "source": [
    "### Exploring correlations\n",
    "Explore correlations between the (numerical) columns.\n",
    "- `sb.heatmap()`\n",
    "- [Example](https://www.analyticsvidhya.com/blog/2021/08/how-to-perform-exploratory-data-analysis-a-guide-for-beginners/)"
   ],
   "metadata": {
    "collapsed": false
   }
  },
  {
   "cell_type": "markdown",
   "source": [
    "### Data visualization\n",
    "Plot some bargraphs, scatterplots, boxplots,...\n",
    "- [Example](https://www.analyticsvidhya.com/blog/2021/08/how-to-perform-exploratory-data-analysis-a-guide-for-beginners/)"
   ],
   "metadata": {
    "collapsed": false
   }
  },
  {
   "cell_type": "markdown",
   "source": [
    "### Other\n",
    "[Other interesting ideas and different ways of using the things from above](https://realpython.com/pandas-python-explore-dataset/#exploring-your-dataset) (see the rest from [that article](https://realpython.com/pandas-python-explore-dataset/) as well)."
   ],
   "metadata": {
    "collapsed": false
   }
  },
  {
   "cell_type": "markdown",
   "source": [
    "## Import and configure packages\n",
    "The `%run` magic does not work well in DataSpell, thus the following `import` statements are copied here from *import_packages.ipynb* (the last line is added subsequently):"
   ],
   "metadata": {
    "collapsed": false
   }
  },
  {
   "cell_type": "code",
   "execution_count": 3,
   "outputs": [],
   "source": [
    "%load_ext autoreload\n",
    "%autoreload 2\n",
    "\n",
    "%matplotlib inline\n",
    "\n",
    "%config IPCompleter.greedy=True\n",
    "\n",
    "import numpy as np\n",
    "import matplotlib as mpl\n",
    "import matplotlib.pyplot as plt\n",
    "plt.style.use('classic')\n",
    "import pandas as pd\n",
    "import seaborn as sb\n",
    "\n",
    "from plotnine import ggplot, aes, labs, geom_point, geom_line, geom_histogram, theme_xkcd, coord_cartesian, xlim, ylim, xlab, ylab, ggtitle, theme"
   ],
   "metadata": {
    "collapsed": false,
    "ExecuteTime": {
     "end_time": "2023-12-12T22:55:41.775405400Z",
     "start_time": "2023-12-12T22:55:41.254770100Z"
    }
   }
  },
  {
   "cell_type": "code",
   "execution_count": null,
   "outputs": [],
   "source": [
    "# %run \"import_packages.ipynb\""
   ],
   "metadata": {
    "collapsed": false
   }
  },
  {
   "cell_type": "markdown",
   "source": [
    "## Introducing The Rolling Stones datasets"
   ],
   "metadata": {
    "collapsed": false
   }
  },
  {
   "cell_type": "markdown",
   "source": [
    "### Available datasets\n",
    "The starting set of The Rolling Stones datasets, located in the *data* folder:\n",
    "* *rolling_stones_spotify.csv* - Spotify audio features collected from playlists\n",
    "* *stones.csv* - complete raw dataset (including data from Spotify, Wikipedia, AllMusic, etc.)\n",
    "* *stones_analysis.csv* - clean dataset (no NAs, no duplicates,...)"
   ],
   "metadata": {
    "collapsed": false
   }
  },
  {
   "cell_type": "markdown",
   "source": [
    "### Read a *csv* file containing one of the available datasets describing The Rolling Stones songs\n",
    "`pd.read_csv()` returns a `pd.DataFrame` object.\n",
    "\n",
    "As for specifying the path of the dataset properly, see [this](https://stackoverflow.com/questions/35384358/how-to-open-my-files-in-data-folder-with-pandas-using-relative-path) (more specifically, **both** [this](https://stackoverflow.com/a/35384414/1899061) and [this](https://stackoverflow.com/a/43600253/1899061))."
   ],
   "metadata": {
    "collapsed": false
   }
  },
  {
   "cell_type": "code",
   "execution_count": 105,
   "outputs": [],
   "source": [
    "# Get the songs as a pd.DataFrame object from 'data/stones.csv', \n",
    "# or from '../data/stones.csv', \n",
    "# or '../../data/stones.csv', \n",
    "# or ..., \n",
    "# depending on where the csv file is located\n",
    "songs = pd.read_csv('../data/stones.csv')\n",
    "\n",
    "# If an int column contains NaN values, read_csv() sets all values to float values, because NaN are internally\n",
    "# represented as float values. To read the int columns as int values and still preserve NaN values where they \n",
    "# exist, see this: https://stackoverflow.com/a/72323514. \n",
    "# The trick is: df = pd.read_csv('file.csv', dtype={'a': 'Int32', 'b': 'Int32'}), assuming that 'a' and 'b' \n",
    "# columns contain int and NaN values."
   ],
   "metadata": {
    "collapsed": false,
    "ExecuteTime": {
     "end_time": "2023-12-12T12:42:50.638932800Z",
     "start_time": "2023-12-12T12:42:50.472745600Z"
    }
   }
  },
  {
   "cell_type": "markdown",
   "source": [
    "### Explore the dataset (first steps)"
   ],
   "metadata": {
    "collapsed": false
   }
  },
  {
   "cell_type": "markdown",
   "source": [
    "##### Initial examination and adaptations\n",
    "- `<pd.df>.shape`, `<pd.df>.head()`, `<pd.df>.tail()`, `<pd.df>.sample()`, `<pd.df>.dtypes`, `<pd.df>.info()`, `<pd.df>.describe()`\n",
    "- `<pd.df>.columns`, `<pd.df>.columns.values`, `<pd.df>.columns.values.tolist()` (or `<pd.df>.columns.values.to_list()`), `<pd.df>.values`\n",
    "- `<pd.df>.rename({'<column_1 old name>':'<column_1 new name>', '<column_2 old name>':'<column_2 new name>', ...}, axis='columns')`, `<pd.df>.columns = ['<column_1 name>', '<column_2 name>', ...]` (change the names of all columns in <pd.df>)\n",
    "- `ast.literal_eval()` (using Python's *ast* module to transform a string into a literal value, a list, a tuple or any other container object)"
   ],
   "metadata": {
    "collapsed": false
   }
  },
  {
   "cell_type": "markdown",
   "source": [
    "###### A sneak peek into the dataset\n",
    "- `<pd.df>.shape`, `<pd.df>.head()`, `<pd.df>.tail()`, `<pd.df>.sample()`, `<pd.df>.dtypes`, **<u>`<pd.df>.info()`**</u>, `<pd.df>.describe()` (shows descriptive statistics for numerical columns only).\n",
    "\n",
    "When calling `display()` on a method like `<pd.df>.head()`, `<pd.df>.tail()` and `<pd.df>.sample()`, only a certain default number of columns is displayed. To display *all* columns, use `pd.set_option('display.max_columns', None)` first. To display `<n>` columns, use `pd.set_option('display.max_columns', <n>)` first. "
   ],
   "metadata": {
    "collapsed": false
   }
  },
  {
   "cell_type": "code",
   "execution_count": 9,
   "outputs": [
    {
     "name": "stdout",
     "output_type": "stream",
     "text": [
      "<class 'pandas.core.frame.DataFrame'>\n",
      "RangeIndex: 297 entries, 0 to 296\n",
      "Data columns (total 35 columns):\n",
      " #   Column            Non-Null Count  Dtype  \n",
      "---  ------            --------------  -----  \n",
      " 0   Title             297 non-null    object \n",
      " 1   Year_recorded     297 non-null    int64  \n",
      " 2   Year_released     297 non-null    int64  \n",
      " 3   Album             297 non-null    object \n",
      " 4   Album_type        297 non-null    object \n",
      " 5   Record_label      297 non-null    object \n",
      " 6   Track_number      293 non-null    float64\n",
      " 7   Duration          293 non-null    object \n",
      " 8   Songwriter        297 non-null    object \n",
      " 9   Lead_vocal        297 non-null    object \n",
      " 10  acousticness      281 non-null    float64\n",
      " 11  danceability      281 non-null    float64\n",
      " 12  energy            281 non-null    float64\n",
      " 13  instrumentalness  281 non-null    float64\n",
      " 14  liveness          281 non-null    float64\n",
      " 15  loudness          281 non-null    float64\n",
      " 16  speechiness       281 non-null    float64\n",
      " 17  tempo             281 non-null    float64\n",
      " 18  valence           281 non-null    float64\n",
      " 19  British_charts    297 non-null    object \n",
      " 20  Date              297 non-null    object \n",
      " 21  UK_peak_pos       297 non-null    object \n",
      " 22  WoC               297 non-null    object \n",
      " 23  Weeks_at_no_1     297 non-null    object \n",
      " 24  US_cash           297 non-null    object \n",
      " 25  US_rec_world      297 non-null    object \n",
      " 26  AUS               297 non-null    object \n",
      " 27  US                297 non-null    object \n",
      " 28  GER               297 non-null    object \n",
      " 29  NLD               297 non-null    object \n",
      " 30  FRA               297 non-null    object \n",
      " 31  SWI               297 non-null    object \n",
      " 32  CAN               297 non-null    object \n",
      " 33  POL               297 non-null    object \n",
      " 34  Certification     297 non-null    object \n",
      "dtypes: float64(10), int64(2), object(23)\n",
      "memory usage: 81.3+ KB\n"
     ]
    },
    {
     "data": {
      "text/plain": "       Year_recorded  Year_released  Track_number  acousticness  danceability  \\\ncount     297.000000     297.000000    293.000000    281.000000    281.000000   \nmean     1978.117845    1978.811448      6.638225      0.270074      0.522416   \nstd        14.226554      14.266461      3.761581      0.247631      0.126368   \nmin      1963.000000    1964.000000      1.000000      0.000058      0.230000   \n25%      1966.000000    1967.000000      4.000000      0.061100      0.431000   \n50%      1973.000000    1974.000000      6.000000      0.187000      0.518000   \n75%      1989.000000    1989.000000      9.000000      0.451000      0.618000   \nmax      2015.000000    2016.000000     18.000000      0.994000      0.835000   \n\n           energy  instrumentalness    liveness    loudness  speechiness  \\\ncount  281.000000        281.000000  281.000000  281.000000   281.000000   \nmean     0.732898          0.142892    0.261473   -7.112119     0.055053   \nstd      0.192342          0.255340    0.202501    3.206846     0.036825   \nmin      0.129000          0.000000    0.024500  -24.466000     0.023200   \n25%      0.576000          0.000201    0.109000   -9.335000     0.033000   \n50%      0.769000          0.006910    0.204500   -6.493000     0.042900   \n75%      0.906000          0.138000    0.351000   -4.504000     0.060100   \nmax      0.997000          0.977000    0.978000   -1.426000     0.306000   \n\n            tempo     valence  \ncount  281.000000  281.000000  \nmean   124.231587    0.638497  \nstd     30.115263    0.219224  \nmin     57.772000    0.042700  \n25%    104.528000    0.511000  \n50%    118.944000    0.668000  \n75%    140.814000    0.820000  \nmax    217.578000    0.973000  ",
      "text/html": "<div>\n<style scoped>\n    .dataframe tbody tr th:only-of-type {\n        vertical-align: middle;\n    }\n\n    .dataframe tbody tr th {\n        vertical-align: top;\n    }\n\n    .dataframe thead th {\n        text-align: right;\n    }\n</style>\n<table border=\"1\" class=\"dataframe\">\n  <thead>\n    <tr style=\"text-align: right;\">\n      <th></th>\n      <th>Year_recorded</th>\n      <th>Year_released</th>\n      <th>Track_number</th>\n      <th>acousticness</th>\n      <th>danceability</th>\n      <th>energy</th>\n      <th>instrumentalness</th>\n      <th>liveness</th>\n      <th>loudness</th>\n      <th>speechiness</th>\n      <th>tempo</th>\n      <th>valence</th>\n    </tr>\n  </thead>\n  <tbody>\n    <tr>\n      <th>count</th>\n      <td>297.000000</td>\n      <td>297.000000</td>\n      <td>293.000000</td>\n      <td>281.000000</td>\n      <td>281.000000</td>\n      <td>281.000000</td>\n      <td>281.000000</td>\n      <td>281.000000</td>\n      <td>281.000000</td>\n      <td>281.000000</td>\n      <td>281.000000</td>\n      <td>281.000000</td>\n    </tr>\n    <tr>\n      <th>mean</th>\n      <td>1978.117845</td>\n      <td>1978.811448</td>\n      <td>6.638225</td>\n      <td>0.270074</td>\n      <td>0.522416</td>\n      <td>0.732898</td>\n      <td>0.142892</td>\n      <td>0.261473</td>\n      <td>-7.112119</td>\n      <td>0.055053</td>\n      <td>124.231587</td>\n      <td>0.638497</td>\n    </tr>\n    <tr>\n      <th>std</th>\n      <td>14.226554</td>\n      <td>14.266461</td>\n      <td>3.761581</td>\n      <td>0.247631</td>\n      <td>0.126368</td>\n      <td>0.192342</td>\n      <td>0.255340</td>\n      <td>0.202501</td>\n      <td>3.206846</td>\n      <td>0.036825</td>\n      <td>30.115263</td>\n      <td>0.219224</td>\n    </tr>\n    <tr>\n      <th>min</th>\n      <td>1963.000000</td>\n      <td>1964.000000</td>\n      <td>1.000000</td>\n      <td>0.000058</td>\n      <td>0.230000</td>\n      <td>0.129000</td>\n      <td>0.000000</td>\n      <td>0.024500</td>\n      <td>-24.466000</td>\n      <td>0.023200</td>\n      <td>57.772000</td>\n      <td>0.042700</td>\n    </tr>\n    <tr>\n      <th>25%</th>\n      <td>1966.000000</td>\n      <td>1967.000000</td>\n      <td>4.000000</td>\n      <td>0.061100</td>\n      <td>0.431000</td>\n      <td>0.576000</td>\n      <td>0.000201</td>\n      <td>0.109000</td>\n      <td>-9.335000</td>\n      <td>0.033000</td>\n      <td>104.528000</td>\n      <td>0.511000</td>\n    </tr>\n    <tr>\n      <th>50%</th>\n      <td>1973.000000</td>\n      <td>1974.000000</td>\n      <td>6.000000</td>\n      <td>0.187000</td>\n      <td>0.518000</td>\n      <td>0.769000</td>\n      <td>0.006910</td>\n      <td>0.204500</td>\n      <td>-6.493000</td>\n      <td>0.042900</td>\n      <td>118.944000</td>\n      <td>0.668000</td>\n    </tr>\n    <tr>\n      <th>75%</th>\n      <td>1989.000000</td>\n      <td>1989.000000</td>\n      <td>9.000000</td>\n      <td>0.451000</td>\n      <td>0.618000</td>\n      <td>0.906000</td>\n      <td>0.138000</td>\n      <td>0.351000</td>\n      <td>-4.504000</td>\n      <td>0.060100</td>\n      <td>140.814000</td>\n      <td>0.820000</td>\n    </tr>\n    <tr>\n      <th>max</th>\n      <td>2015.000000</td>\n      <td>2016.000000</td>\n      <td>18.000000</td>\n      <td>0.994000</td>\n      <td>0.835000</td>\n      <td>0.997000</td>\n      <td>0.977000</td>\n      <td>0.978000</td>\n      <td>-1.426000</td>\n      <td>0.306000</td>\n      <td>217.578000</td>\n      <td>0.973000</td>\n    </tr>\n  </tbody>\n</table>\n</div>"
     },
     "execution_count": 9,
     "metadata": {},
     "output_type": "execute_result"
    }
   ],
   "source": [
    "songs.shape\n",
    "songs.sample(3)\n",
    "songs.head()\n",
    "songs.tail()\n",
    "songs.dtypes\n",
    "songs.info()\n",
    "songs.describe()"
   ],
   "metadata": {
    "collapsed": false,
    "ExecuteTime": {
     "end_time": "2023-12-11T20:10:07.359158Z",
     "start_time": "2023-12-11T20:10:07.247749500Z"
    }
   }
  },
  {
   "cell_type": "markdown",
   "source": [
    "###### Columns\n",
    "- `<pd.df>.columns`, `<pd.df>.columns.values`, `<pd.df>.columns.values.tolist()` (or `<pd.df>.columns.values.to_list()`), `<pd.df>.values`\n",
    "\n",
    "Show the columns of the `songs` object (which is a `pd.DataFrame` object)."
   ],
   "metadata": {
    "collapsed": false
   }
  },
  {
   "cell_type": "code",
   "execution_count": 14,
   "outputs": [
    {
     "data": {
      "text/plain": "array([['19th Nervous Breakdown', 1965, 1966, ..., '9', '-', '-'],\n       ['100 Years Ago', 1972, 1973, ..., '-', '-', '-'],\n       ['2000 Light Years From Home', 1967, 1967, ..., '-', '-', '-'],\n       ...,\n       ['You Got Me Rocking', 1993, 1994, ..., '29', '32', '-'],\n       ['You Got The Silver', 1969, 1969, ..., '-', '-', '-'],\n       ['You Gotta Move', 1969, 1971, ..., '-', '-', '-']], dtype=object)"
     },
     "execution_count": 14,
     "metadata": {},
     "output_type": "execute_result"
    }
   ],
   "source": [
    "# Get the columns as a pd.Index object, using <pd.df>.columns\n",
    "songs.columns\n",
    "# Get the columns as a list, using list(<pd.df>.columns)\n",
    "songs.columns.tolist()\n",
    "# Get the columns as a list, using <pd.df>.columns.tolist() or <pd.df>.columns.to_list()\n",
    "list(songs.columns)\n",
    "# Get the columns as a numpy.ndarray object, using <pd.df>.columns.values or np.array(<pd.df>.columns)\n",
    "songs.columns.values\n",
    "# Get the values of all items in the dataset as a numpy.ndarray of lists of the values in each item, using <pd.df>.values (the type is numpy.ndarray)\n",
    "songs.values"
   ],
   "metadata": {
    "collapsed": false,
    "ExecuteTime": {
     "end_time": "2023-12-11T20:11:35.408267700Z",
     "start_time": "2023-12-11T20:11:35.302216700Z"
    }
   }
  },
  {
   "cell_type": "markdown",
   "source": [
    "###### Renaming columns\n",
    "- `<pd.df>.rename(columns={'<column_1 old name>':'<column_1 new name>', '<column_2 old name>':'<column_2 new name>', ...}, inplace=True)`, or\n",
    "- `<pd.df>.rename({'<column_1 old name>':'<column_1 new name>', '<column_2 old name>':'<column_2 new name>', ...}, axis='columns', inplace=True)`;\n",
    "- `<pd.df>.columns = ['<column_1 name>', '<column_2 name>', ...]` (change the names of all columns in `<pd.df>`)"
   ],
   "metadata": {
    "collapsed": false
   }
  },
  {
   "cell_type": "code",
   "execution_count": 16,
   "outputs": [
    {
     "data": {
      "text/plain": "                          Title  Year_recorded  Year_released  \\\n0        19th Nervous Breakdown           1965           1966   \n1                 100 Years Ago           1972           1973   \n2    2000 Light Years From Home           1967           1967   \n3                      2000 Man           1967           1967   \n4    2120 South Michigan Avenue           1964           1964   \n..                          ...            ...            ...   \n292          You Can't Catch Me           1964           1965   \n293   You Don't Have To Mean It           1997           1997   \n294          You Got Me Rocking           1993           1994   \n295          You Got The Silver           1969           1969   \n296              You Gotta Move           1969           1971   \n\n                               Album Album_type               Record_label  \\\n0           Got Live If You Want It!       Live  ABKCO Records / Universal   \n1                    Goats Head Soup     Studio       Interscope / Polydor   \n2    Their Satanic Majesties Request     Studio              ABKCO Records   \n3    Their Satanic Majesties Request     Studio              ABKCO Records   \n4                             12 X 5     Studio              ABKCO Records   \n..                               ...        ...                        ...   \n292         The Rolling Stones, Now!     Studio              ABKCO Records   \n293               Bridges to Babylon     Studio                     Virgin   \n294                      No Security       Live                     Virgin   \n295                     Let It Bleed     Studio              ABKCO Records   \n296                   Sticky Fingers     Studio                     Virgin   \n\n     Track_number Duration                Songwriter    Lead_vocal  ...  \\\n0             8.0     3:31           Jagger/Richards        Jagger  ...   \n1             2.0     3:58           Jagger/Richards        Jagger  ...   \n2             9.0     4:45           Jagger/Richards        Jagger  ...   \n3             4.0     3:07           Jagger/Richards        Jagger  ...   \n4             7.0     3:39          Nanker Phelge[a]  instrumental  ...   \n..            ...      ...                       ...           ...  ...   \n292           3.0     3:40               Chuck Berry        Jagger  ...   \n293           6.0     3:43           Jagger/Richards      Richards  ...   \n294           2.0     3:28           Jagger/Richards        Jagger  ...   \n295           7.0     2:50           Jagger/Richards      Richards  ...   \n296           5.0     2:33  Fred McDowell/Gary Davis        Jagger  ...   \n\n     US_rec_world  AUS  US  GER  NLD  FRA  SWI  CAN  POL Certification  \n0               2    -   2    1    2   19    -    9    -             -  \n1               -    -   -    -    -    -    -    -    -             -  \n2               -    -   -    5    3    -    -    -    -             -  \n3               -    -   -    -    -    -    -    -    -             -  \n4               -    -   -    -    -    -    -    -    -             -  \n..            ...  ...  ..  ...  ...  ...  ...  ...  ...           ...  \n292             -    -   -    -    -    -    -    -    -             -  \n293             -    -   -    -    -    -    -    -    -             -  \n294             -    -   -    -   39    -    -   29   32             -  \n295             -    -   -    -    -    -    -    -    -             -  \n296             -    -   -    -    -    -    -    -    -             -  \n\n[297 rows x 35 columns]",
      "text/html": "<div>\n<style scoped>\n    .dataframe tbody tr th:only-of-type {\n        vertical-align: middle;\n    }\n\n    .dataframe tbody tr th {\n        vertical-align: top;\n    }\n\n    .dataframe thead th {\n        text-align: right;\n    }\n</style>\n<table border=\"1\" class=\"dataframe\">\n  <thead>\n    <tr style=\"text-align: right;\">\n      <th></th>\n      <th>Title</th>\n      <th>Year_recorded</th>\n      <th>Year_released</th>\n      <th>Album</th>\n      <th>Album_type</th>\n      <th>Record_label</th>\n      <th>Track_number</th>\n      <th>Duration</th>\n      <th>Songwriter</th>\n      <th>Lead_vocal</th>\n      <th>...</th>\n      <th>US_rec_world</th>\n      <th>AUS</th>\n      <th>US</th>\n      <th>GER</th>\n      <th>NLD</th>\n      <th>FRA</th>\n      <th>SWI</th>\n      <th>CAN</th>\n      <th>POL</th>\n      <th>Certification</th>\n    </tr>\n  </thead>\n  <tbody>\n    <tr>\n      <th>0</th>\n      <td>19th Nervous Breakdown</td>\n      <td>1965</td>\n      <td>1966</td>\n      <td>Got Live If You Want It!</td>\n      <td>Live</td>\n      <td>ABKCO Records / Universal</td>\n      <td>8.0</td>\n      <td>3:31</td>\n      <td>Jagger/Richards</td>\n      <td>Jagger</td>\n      <td>...</td>\n      <td>2</td>\n      <td>-</td>\n      <td>2</td>\n      <td>1</td>\n      <td>2</td>\n      <td>19</td>\n      <td>-</td>\n      <td>9</td>\n      <td>-</td>\n      <td>-</td>\n    </tr>\n    <tr>\n      <th>1</th>\n      <td>100 Years Ago</td>\n      <td>1972</td>\n      <td>1973</td>\n      <td>Goats Head Soup</td>\n      <td>Studio</td>\n      <td>Interscope / Polydor</td>\n      <td>2.0</td>\n      <td>3:58</td>\n      <td>Jagger/Richards</td>\n      <td>Jagger</td>\n      <td>...</td>\n      <td>-</td>\n      <td>-</td>\n      <td>-</td>\n      <td>-</td>\n      <td>-</td>\n      <td>-</td>\n      <td>-</td>\n      <td>-</td>\n      <td>-</td>\n      <td>-</td>\n    </tr>\n    <tr>\n      <th>2</th>\n      <td>2000 Light Years From Home</td>\n      <td>1967</td>\n      <td>1967</td>\n      <td>Their Satanic Majesties Request</td>\n      <td>Studio</td>\n      <td>ABKCO Records</td>\n      <td>9.0</td>\n      <td>4:45</td>\n      <td>Jagger/Richards</td>\n      <td>Jagger</td>\n      <td>...</td>\n      <td>-</td>\n      <td>-</td>\n      <td>-</td>\n      <td>5</td>\n      <td>3</td>\n      <td>-</td>\n      <td>-</td>\n      <td>-</td>\n      <td>-</td>\n      <td>-</td>\n    </tr>\n    <tr>\n      <th>3</th>\n      <td>2000 Man</td>\n      <td>1967</td>\n      <td>1967</td>\n      <td>Their Satanic Majesties Request</td>\n      <td>Studio</td>\n      <td>ABKCO Records</td>\n      <td>4.0</td>\n      <td>3:07</td>\n      <td>Jagger/Richards</td>\n      <td>Jagger</td>\n      <td>...</td>\n      <td>-</td>\n      <td>-</td>\n      <td>-</td>\n      <td>-</td>\n      <td>-</td>\n      <td>-</td>\n      <td>-</td>\n      <td>-</td>\n      <td>-</td>\n      <td>-</td>\n    </tr>\n    <tr>\n      <th>4</th>\n      <td>2120 South Michigan Avenue</td>\n      <td>1964</td>\n      <td>1964</td>\n      <td>12 X 5</td>\n      <td>Studio</td>\n      <td>ABKCO Records</td>\n      <td>7.0</td>\n      <td>3:39</td>\n      <td>Nanker Phelge[a]</td>\n      <td>instrumental</td>\n      <td>...</td>\n      <td>-</td>\n      <td>-</td>\n      <td>-</td>\n      <td>-</td>\n      <td>-</td>\n      <td>-</td>\n      <td>-</td>\n      <td>-</td>\n      <td>-</td>\n      <td>-</td>\n    </tr>\n    <tr>\n      <th>...</th>\n      <td>...</td>\n      <td>...</td>\n      <td>...</td>\n      <td>...</td>\n      <td>...</td>\n      <td>...</td>\n      <td>...</td>\n      <td>...</td>\n      <td>...</td>\n      <td>...</td>\n      <td>...</td>\n      <td>...</td>\n      <td>...</td>\n      <td>...</td>\n      <td>...</td>\n      <td>...</td>\n      <td>...</td>\n      <td>...</td>\n      <td>...</td>\n      <td>...</td>\n      <td>...</td>\n    </tr>\n    <tr>\n      <th>292</th>\n      <td>You Can't Catch Me</td>\n      <td>1964</td>\n      <td>1965</td>\n      <td>The Rolling Stones, Now!</td>\n      <td>Studio</td>\n      <td>ABKCO Records</td>\n      <td>3.0</td>\n      <td>3:40</td>\n      <td>Chuck Berry</td>\n      <td>Jagger</td>\n      <td>...</td>\n      <td>-</td>\n      <td>-</td>\n      <td>-</td>\n      <td>-</td>\n      <td>-</td>\n      <td>-</td>\n      <td>-</td>\n      <td>-</td>\n      <td>-</td>\n      <td>-</td>\n    </tr>\n    <tr>\n      <th>293</th>\n      <td>You Don't Have To Mean It</td>\n      <td>1997</td>\n      <td>1997</td>\n      <td>Bridges to Babylon</td>\n      <td>Studio</td>\n      <td>Virgin</td>\n      <td>6.0</td>\n      <td>3:43</td>\n      <td>Jagger/Richards</td>\n      <td>Richards</td>\n      <td>...</td>\n      <td>-</td>\n      <td>-</td>\n      <td>-</td>\n      <td>-</td>\n      <td>-</td>\n      <td>-</td>\n      <td>-</td>\n      <td>-</td>\n      <td>-</td>\n      <td>-</td>\n    </tr>\n    <tr>\n      <th>294</th>\n      <td>You Got Me Rocking</td>\n      <td>1993</td>\n      <td>1994</td>\n      <td>No Security</td>\n      <td>Live</td>\n      <td>Virgin</td>\n      <td>2.0</td>\n      <td>3:28</td>\n      <td>Jagger/Richards</td>\n      <td>Jagger</td>\n      <td>...</td>\n      <td>-</td>\n      <td>-</td>\n      <td>-</td>\n      <td>-</td>\n      <td>39</td>\n      <td>-</td>\n      <td>-</td>\n      <td>29</td>\n      <td>32</td>\n      <td>-</td>\n    </tr>\n    <tr>\n      <th>295</th>\n      <td>You Got The Silver</td>\n      <td>1969</td>\n      <td>1969</td>\n      <td>Let It Bleed</td>\n      <td>Studio</td>\n      <td>ABKCO Records</td>\n      <td>7.0</td>\n      <td>2:50</td>\n      <td>Jagger/Richards</td>\n      <td>Richards</td>\n      <td>...</td>\n      <td>-</td>\n      <td>-</td>\n      <td>-</td>\n      <td>-</td>\n      <td>-</td>\n      <td>-</td>\n      <td>-</td>\n      <td>-</td>\n      <td>-</td>\n      <td>-</td>\n    </tr>\n    <tr>\n      <th>296</th>\n      <td>You Gotta Move</td>\n      <td>1969</td>\n      <td>1971</td>\n      <td>Sticky Fingers</td>\n      <td>Studio</td>\n      <td>Virgin</td>\n      <td>5.0</td>\n      <td>2:33</td>\n      <td>Fred McDowell/Gary Davis</td>\n      <td>Jagger</td>\n      <td>...</td>\n      <td>-</td>\n      <td>-</td>\n      <td>-</td>\n      <td>-</td>\n      <td>-</td>\n      <td>-</td>\n      <td>-</td>\n      <td>-</td>\n      <td>-</td>\n      <td>-</td>\n    </tr>\n  </tbody>\n</table>\n<p>297 rows × 35 columns</p>\n</div>"
     },
     "execution_count": 16,
     "metadata": {},
     "output_type": "execute_result"
    }
   ],
   "source": [
    "# Rename the Duration column to Length and Album to Album_title\n",
    "songs.rename(columns={'Duration': 'Length', 'Album': 'Album_title'}, inplace=True)\n",
    "songs\n",
    "# Rename the Length column back to Duration and Album_title back to Album\n",
    "songs.rename(columns={'Album_title': 'Album', 'Length': 'Duration'}, inplace=True)\n",
    "songs"
   ],
   "metadata": {
    "collapsed": false,
    "ExecuteTime": {
     "end_time": "2023-12-11T20:13:48.309637800Z",
     "start_time": "2023-12-11T20:13:48.173812300Z"
    }
   }
  },
  {
   "cell_type": "markdown",
   "source": [
    "##### Missing values and value counts\n",
    "- `sb.heatmap()`, e.g. `sb.heatmap(<pd.df>.isna(),cbar=False,cmap='viridis')` ([example](https://www.analyticsvidhya.com/blog/2021/08/how-to-perform-exploratory-data-analysis-a-guide-for-beginners/))\n",
    "- `<pd.df>.isna()` (`<pd.df>.isnull()`), `<pd.df>.isna().sum()` (`<pd.df>.isnull().sum`) ([example](https://www.analyticsvidhya.com/blog/2021/08/how-to-perform-exploratory-data-analysis-a-guide-for-beginners/))\n",
    "- `<pd.df>['<column>'].value_counts()` (shows only the rows without NAs (default: dropna=True), check shape)\n",
    "- `<pd.df>['<column>'].value_counts(normalize=True)` (show proportions, rather than frequencies)\n",
    "- `<pd.Series>.dropna(how='all'/'any', inplace=True)` (return a new `<pd.Series>` object with missing values removed)\n",
    "\n",
    "The `cmap` parameter of `sb.heatmap()` denotes a [Matplotlib colormap](https://matplotlib.org/stable/tutorials/colors/colormaps.html#classes-of-colormaps) (`viridis`, `cividis`, `tab20`, `winter`, `BuPu_r`, `ocean`,...)."
   ],
   "metadata": {
    "collapsed": false
   }
  },
  {
   "cell_type": "code",
   "execution_count": 17,
   "outputs": [
    {
     "data": {
      "text/plain": "<Axes: >"
     },
     "execution_count": 17,
     "metadata": {},
     "output_type": "execute_result"
    },
    {
     "data": {
      "text/plain": "<Figure size 640x480 with 1 Axes>",
      "image/png": "[encoded data removed]"
     },
     "metadata": {},
     "output_type": "display_data"
    }
   ],
   "source": [
    "# Display the heatmap (missing values) of the songs dataset \n",
    "# (demonstrate using sb.heatmap() vs. sb.heatmap();)\n",
    "sb.heatmap(songs.isna(), cbar=False, cmap='BuPu_r')"
   ],
   "metadata": {
    "collapsed": false,
    "ExecuteTime": {
     "end_time": "2023-12-11T20:14:47.114899400Z",
     "start_time": "2023-12-11T20:14:46.630335700Z"
    }
   }
  },
  {
   "cell_type": "markdown",
   "source": [
    "How many missing values are there? (`<pd.df>.isna().sum()` for all columns, `<pd.df>.['<column>'].isna().sum()` for a specific column, `<pd.df>.isna()[['<column1>', 'column2', ...]].sum()` for selected multiple columns; `isnull()` is the same as `isna()`, and `isna()` is used more often)."
   ],
   "metadata": {
    "collapsed": false
   }
  },
  {
   "cell_type": "code",
   "execution_count": 21,
   "outputs": [
    {
     "data": {
      "text/plain": "danceability    16\nenergy          16\ndtype: int64"
     },
     "execution_count": 21,
     "metadata": {},
     "output_type": "execute_result"
    }
   ],
   "source": [
    "songs.isna().sum()\n",
    "songs.isna()[['danceability', 'energy']].sum()"
   ],
   "metadata": {
    "collapsed": false,
    "ExecuteTime": {
     "end_time": "2023-12-11T20:16:19.184195600Z",
     "start_time": "2023-12-11T20:16:19.063660700Z"
    }
   }
  },
  {
   "cell_type": "markdown",
   "source": [
    "### Examining individual data items, rows and columns\n",
    "- `<pd.df>.sample()`\n",
    "- Simple indexing and fancy indexing: `<pd.df>.iloc[]`, `<pd.df>.loc[]`\n",
    "- `<pd.df>.index`, `<pd.df>.index[<from>:<to>]`, `<pd.df>.reset_index(drop=True, inplace=True)`\n",
    "- Indexing using list of values: `<pd.df>.loc[<pd.df>.<column>.isin(<list of values>)]` (select those observations where the value of <column> is in the `<list of values>`)\n",
    "- Indexing in data stats: `<pd.df>.describe().loc['50%', '<column_name>']` (select the median of `<column_name>` from the `<pd.df>` stats computed by `describe()`)"
   ],
   "metadata": {
    "collapsed": false
   }
  },
  {
   "cell_type": "markdown",
   "source": [
    "Take a sample of the dataset to get a feeling of what's in there."
   ],
   "metadata": {
    "collapsed": false
   }
  },
  {
   "cell_type": "code",
   "execution_count": 23,
   "outputs": [
    {
     "data": {
      "text/plain": "                     Title  Year_recorded  Year_released            Album  \\\n108              Hot Stuff           1975           1976   Black and Blue   \n194        Parachute Woman           1968           1968  Beggars Banquet   \n85   Good Times, Bad Times           1964           1964           12 X 5   \n140           Let It Bleed           1969           1969     Let It Bleed   \n\n    Album_type   Record_label  Track_number Duration       Songwriter  \\\n108     Studio         Virgin           1.0     5:21  Jagger/Richards   \n194     Studio  ABKCO Records           4.0     2:20  Jagger/Richards   \n85      Studio  ABKCO Records           5.0     2:31  Jagger/Richards   \n140     Studio  ABKCO Records           5.0     5:27  Jagger/Richards   \n\n    Lead_vocal  ...  US_rec_world  AUS  US  GER  NLD  FRA  SWI  CAN  POL  \\\n108     Jagger  ...             -    -  49    -    -    -    -    -    -   \n194     Jagger  ...             -    -   -    -    -    -    -    -    -   \n85      Jagger  ...             -    -   -    -    -    -    -    -    -   \n140     Jagger  ...             -    -   -    -    -    -    -    -    -   \n\n    Certification  \n108             -  \n194             -  \n85              -  \n140             -  \n\n[4 rows x 35 columns]",
      "text/html": "<div>\n<style scoped>\n    .dataframe tbody tr th:only-of-type {\n        vertical-align: middle;\n    }\n\n    .dataframe tbody tr th {\n        vertical-align: top;\n    }\n\n    .dataframe thead th {\n        text-align: right;\n    }\n</style>\n<table border=\"1\" class=\"dataframe\">\n  <thead>\n    <tr style=\"text-align: right;\">\n      <th></th>\n      <th>Title</th>\n      <th>Year_recorded</th>\n      <th>Year_released</th>\n      <th>Album</th>\n      <th>Album_type</th>\n      <th>Record_label</th>\n      <th>Track_number</th>\n      <th>Duration</th>\n      <th>Songwriter</th>\n      <th>Lead_vocal</th>\n      <th>...</th>\n      <th>US_rec_world</th>\n      <th>AUS</th>\n      <th>US</th>\n      <th>GER</th>\n      <th>NLD</th>\n      <th>FRA</th>\n      <th>SWI</th>\n      <th>CAN</th>\n      <th>POL</th>\n      <th>Certification</th>\n    </tr>\n  </thead>\n  <tbody>\n    <tr>\n      <th>108</th>\n      <td>Hot Stuff</td>\n      <td>1975</td>\n      <td>1976</td>\n      <td>Black and Blue</td>\n      <td>Studio</td>\n      <td>Virgin</td>\n      <td>1.0</td>\n      <td>5:21</td>\n      <td>Jagger/Richards</td>\n      <td>Jagger</td>\n      <td>...</td>\n      <td>-</td>\n      <td>-</td>\n      <td>49</td>\n      <td>-</td>\n      <td>-</td>\n      <td>-</td>\n      <td>-</td>\n      <td>-</td>\n      <td>-</td>\n      <td>-</td>\n    </tr>\n    <tr>\n      <th>194</th>\n      <td>Parachute Woman</td>\n      <td>1968</td>\n      <td>1968</td>\n      <td>Beggars Banquet</td>\n      <td>Studio</td>\n      <td>ABKCO Records</td>\n      <td>4.0</td>\n      <td>2:20</td>\n      <td>Jagger/Richards</td>\n      <td>Jagger</td>\n      <td>...</td>\n      <td>-</td>\n      <td>-</td>\n      <td>-</td>\n      <td>-</td>\n      <td>-</td>\n      <td>-</td>\n      <td>-</td>\n      <td>-</td>\n      <td>-</td>\n      <td>-</td>\n    </tr>\n    <tr>\n      <th>85</th>\n      <td>Good Times, Bad Times</td>\n      <td>1964</td>\n      <td>1964</td>\n      <td>12 X 5</td>\n      <td>Studio</td>\n      <td>ABKCO Records</td>\n      <td>5.0</td>\n      <td>2:31</td>\n      <td>Jagger/Richards</td>\n      <td>Jagger</td>\n      <td>...</td>\n      <td>-</td>\n      <td>-</td>\n      <td>-</td>\n      <td>-</td>\n      <td>-</td>\n      <td>-</td>\n      <td>-</td>\n      <td>-</td>\n      <td>-</td>\n      <td>-</td>\n    </tr>\n    <tr>\n      <th>140</th>\n      <td>Let It Bleed</td>\n      <td>1969</td>\n      <td>1969</td>\n      <td>Let It Bleed</td>\n      <td>Studio</td>\n      <td>ABKCO Records</td>\n      <td>5.0</td>\n      <td>5:27</td>\n      <td>Jagger/Richards</td>\n      <td>Jagger</td>\n      <td>...</td>\n      <td>-</td>\n      <td>-</td>\n      <td>-</td>\n      <td>-</td>\n      <td>-</td>\n      <td>-</td>\n      <td>-</td>\n      <td>-</td>\n      <td>-</td>\n      <td>-</td>\n    </tr>\n  </tbody>\n</table>\n<p>4 rows × 35 columns</p>\n</div>"
     },
     "execution_count": 23,
     "metadata": {},
     "output_type": "execute_result"
    }
   ],
   "source": [
    "songs.sample(4)"
   ],
   "metadata": {
    "collapsed": false,
    "ExecuteTime": {
     "end_time": "2023-12-11T20:16:48.488915100Z",
     "start_time": "2023-12-11T20:16:48.337047100Z"
    }
   }
  },
  {
   "cell_type": "markdown",
   "source": [
    "What are the songs that have *some* missing values? \n",
    "Use masking to create the index of such elements; e.g. `<i>`, e.g., `<i> = songs.isna().sum() > 0` and show the type of the result (it's a `pd.Series` object).\n",
    "Display `<i>.index` and `<i>.values`. "
   ],
   "metadata": {
    "collapsed": false
   }
  },
  {
   "cell_type": "code",
   "execution_count": 109,
   "outputs": [
    {
     "data": {
      "text/plain": "Index(['Track_number', 'Duration', 'acousticness', 'danceability', 'energy',\n       'instrumentalness', 'liveness', 'loudness', 'speechiness', 'tempo',\n       'valence'],\n      dtype='object')"
     },
     "execution_count": 109,
     "metadata": {},
     "output_type": "execute_result"
    }
   ],
   "source": [
    "i = songs.isna().sum() > 0\n",
    "i\n",
    "# type(i)\n",
    "i.index\n",
    "# i.values\n",
    "i[i]\n",
    "i[i].index"
   ],
   "metadata": {
    "collapsed": false,
    "ExecuteTime": {
     "end_time": "2023-12-12T12:43:38.975489300Z",
     "start_time": "2023-12-12T12:43:38.756631Z"
    }
   }
  },
  {
   "cell_type": "markdown",
   "source": [
    "From the `pd.Series` object `<i>` retrieved in the previous step, select the elements that have the values > 0 (i.e., the names of the columns that have some `NaN` values) - `<i>[<i>.values > 0]`, `<songs_with_NaNs> = songs.isna().sum()[i]`."
   ],
   "metadata": {
    "collapsed": false
   }
  },
  {
   "cell_type": "code",
   "execution_count": 35,
   "outputs": [],
   "source": [
    "i[i.values > 0]\n",
    "songs_with_NaNs = songs.isna().sum()[i]"
   ],
   "metadata": {
    "collapsed": false,
    "ExecuteTime": {
     "end_time": "2023-12-11T20:32:53.032425200Z",
     "start_time": "2023-12-11T20:32:52.920149600Z"
    }
   }
  },
  {
   "cell_type": "markdown",
   "source": [
    "How many `NaN`s are there in each column that has `NaN`s?"
   ],
   "metadata": {
    "collapsed": false
   }
  },
  {
   "cell_type": "code",
   "execution_count": 34,
   "outputs": [
    {
     "data": {
      "text/plain": "Track_number         4\nDuration             4\nacousticness        16\ndanceability        16\nenergy              16\ninstrumentalness    16\nliveness            16\nloudness            16\nspeechiness         16\ntempo               16\nvalence             16\ndtype: int64"
     },
     "execution_count": 34,
     "metadata": {},
     "output_type": "execute_result"
    }
   ],
   "source": [
    "songs_with_NaNs"
   ],
   "metadata": {
    "collapsed": false,
    "ExecuteTime": {
     "end_time": "2023-12-11T20:32:33.828450900Z",
     "start_time": "2023-12-11T20:32:33.679848Z"
    }
   }
  },
  {
   "cell_type": "markdown",
   "source": [
    "What are the songs with missing `Duration` values?"
   ],
   "metadata": {
    "collapsed": false
   }
  },
  {
   "cell_type": "markdown",
   "source": [
    "Using `isna()`, `loc[]`, `iloc[]`, `len()` and `index`."
   ],
   "metadata": {
    "collapsed": false
   }
  },
  {
   "cell_type": "markdown",
   "source": [
    "Calling `loc[]` effectively means *creating a subset* (typically based on a relational or logical expression over one or more columns of the dataset). In other words, `loc[]` creates a *slice* of the dataframe, so the type of the result is `<pd.df>`.\n",
    "\n",
    "Note that `loc[]` works as `loc[<selected rows>, <selected columns>]`. The indices `<selected rows>` and `<selected columns>` can be created either directly in `loc[]` or beforehand.\n",
    "\n",
    "If defining the <selected rows> index to be used with `loc[]` subsequently, it is a good practice to define it as a boolean *mask* over a single column, like `<pd.df>['<column>'].isna()`, or as a logical expression in which each chunk is a relational expression over a single column, e.g. `<pd.df>['<column1>'].isna() & <pd.df>['<column2>'] < 23`. The result will be a subset of the original dataframe (i.e., another `<pd.df>`)."
   ],
   "metadata": {
    "collapsed": false
   }
  },
  {
   "cell_type": "markdown",
   "source": [
    "Defining the relevant index with a statement like `<pd.df>.loc[<pd.df>['<column>'].isna()].index` is a good starting point when using `iloc[]` subsequently.\n",
    "\n",
    "If using `iloc[]`, don't forget the `.index` chunk in the statement used to create the index (such as `<pd.df>.loc[<pd.df>['<column>'].isna()].index`). Without it, the result is another `<pd.df>`."
   ],
   "metadata": {
    "collapsed": false
   }
  },
  {
   "cell_type": "code",
   "execution_count": 112,
   "outputs": [
    {
     "data": {
      "text/plain": "Index([50, 177, 205, 283], dtype='int64')"
     },
     "execution_count": 112,
     "metadata": {},
     "output_type": "execute_result"
    }
   ],
   "source": [
    "# Define i_iloc, the index to be used with iloc[], starting from <i> = <pd.df>['<column>'].isna();\n",
    "# iloc[] can be used conveniently here if the relevant index is already defined with <pd.df>.loc[<i>].index, i.e. <pd.df>.loc[<pd.df>['<column>'].isna()].index;\n",
    "# remember that the second index in iloc[] must be a number too (the relevant column index)\n",
    "i = songs.Duration.isna()\n",
    "i_iloc = songs.loc[i].index\n",
    "i_iloc\n",
    "songs.iloc[i_iloc, [0, 7]]\n",
    "\n",
    "# Define i_loc, the index (boolean mask) to be used with loc[]\n",
    "i_loc = songs.Duration.isna()\n",
    "songs.loc[i_loc, ['Title', 'Duration']]\n",
    "\n",
    "# display(songs.loc[i_loc.index, ['Title', 'Album']])\n",
    "# display(songs.iloc[i_iloc, [0, 2]])"
   ],
   "metadata": {
    "collapsed": false,
    "ExecuteTime": {
     "end_time": "2023-12-12T12:53:07.964550Z",
     "start_time": "2023-12-12T12:53:07.744278500Z"
    }
   }
  },
  {
   "cell_type": "markdown",
   "source": [
    "Replace `NaN` values in `Duration` with 'No'."
   ],
   "metadata": {
    "collapsed": false
   }
  },
  {
   "cell_type": "code",
   "execution_count": 46,
   "outputs": [
    {
     "data": {
      "text/plain": "50     No\n177    No\n205    No\n283    No\nName: Duration, dtype: object"
     },
     "execution_count": 46,
     "metadata": {},
     "output_type": "execute_result"
    }
   ],
   "source": [
    "# Make the replacement and display it\n",
    "songs.loc[i_loc, 'Duration'] = 'No'\n",
    "songs.loc[i_loc, 'Duration']"
   ],
   "metadata": {
    "collapsed": false,
    "ExecuteTime": {
     "end_time": "2023-12-11T20:47:01.450653200Z",
     "start_time": "2023-12-11T20:47:01.310185900Z"
    }
   }
  },
  {
   "cell_type": "markdown",
   "source": [
    "Double-check the missing values now:"
   ],
   "metadata": {
    "collapsed": false
   }
  },
  {
   "cell_type": "code",
   "execution_count": 48,
   "outputs": [
    {
     "data": {
      "text/plain": "0"
     },
     "execution_count": 48,
     "metadata": {},
     "output_type": "execute_result"
    }
   ],
   "source": [
    "# Use <pd.df>.Duration.isna().sum(), or <pd.df>.isna().sum()['Duration'] or sb.heatmap(<pd.df>.isna(), cmap='...')\n",
    "songs.Duration.isna().sum()"
   ],
   "metadata": {
    "collapsed": false,
    "ExecuteTime": {
     "end_time": "2023-12-11T20:47:24.648404800Z",
     "start_time": "2023-12-11T20:47:24.535678500Z"
    }
   }
  },
  {
   "cell_type": "markdown",
   "source": [
    "How many songs from The Rolling Stones early years are there?"
   ],
   "metadata": {
    "collapsed": false
   }
  },
  {
   "cell_type": "code",
   "execution_count": 51,
   "outputs": [
    {
     "data": {
      "text/plain": "                          Title  Year_recorded  Year_released  \\\n0        19th Nervous Breakdown           1965           1966   \n4    2120 South Michigan Avenue           1964           1964   \n16            Around And Around           1964           1964   \n17               As Tears Go By           1965           1965   \n30           Blue Turns To Grey           1965           1965   \n..                          ...            ...            ...   \n274              Under My Thumb           1966           1966   \n275         Under The Boardwalk           1964           1964   \n280                What A Shame           1964           1965   \n290          You Better Move On           1963           1964   \n292          You Can't Catch Me           1964           1965   \n\n                                     Album Album_type  \\\n0                 Got Live If You Want It!       Live   \n4                                   12 X 5     Studio   \n16                           Love You Live       Live   \n17   December's Children (And Everybody's)     Studio   \n30   December's Children (And Everybody's)     Studio   \n..                                     ...        ...   \n274               Got Live If You Want It!       Live   \n275                The Rolling Stones No.2     Studio   \n280               The Rolling Stones, Now!     Studio   \n290  December's Children (And Everybody's)     Studio   \n292               The Rolling Stones, Now!     Studio   \n\n                  Record_label  Track_number Duration  \\\n0    ABKCO Records / Universal           8.0     3:31   \n4                ABKCO Records           7.0     3:39   \n16                      Virgin           4.0     3:52   \n17               ABKCO Records           9.0     2:46   \n30               ABKCO Records          11.0     2:29   \n..                         ...           ...      ...   \n274  ABKCO Records / Universal           1.0     2:54   \n275                      Decca           8.0     2:46   \n280              ABKCO Records           5.0     3:06   \n290              ABKCO Records           3.0     2:40   \n292              ABKCO Records           3.0     3:40   \n\n                      Songwriter    Lead_vocal  ...  US_rec_world  AUS  US  \\\n0                Jagger/Richards        Jagger  ...             2    -   2   \n4               Nanker Phelge[a]  instrumental  ...             -    -   -   \n16                   Chuck Berry        Jagger  ...             -    -   -   \n17   Jagger/Richards/Loog Oldham        Jagger  ...             6    -   6   \n30               Jagger/Richards        Jagger  ...             -    -   -   \n..                           ...           ...  ...           ...  ...  ..   \n274              Jagger/Richards        Jagger  ...             -    -   -   \n275   Kenny Young/Arthur Rednick        Jagger  ...             -    -   -   \n280              Jagger/Richards        Jagger  ...             -    -   -   \n290             Arthur Alexander        Jagger  ...             -    -   -   \n292                  Chuck Berry        Jagger  ...             -    -   -   \n\n     GER  NLD  FRA  SWI  CAN  POL Certification  \n0      1    2   19    -    9    -             -  \n4      -    -    -    -    -    -             -  \n16     -    -    -    -    -    -             -  \n17     8    -   22    -    1    -             -  \n30     -    -    -    -    -    -             -  \n..   ...  ...  ...  ...  ...  ...           ...  \n274    -    -    -    -    -    -             -  \n275    -    -    -    -    -    -             -  \n280    -    -    -    -    -    -             -  \n290    -    -    -    -    -    -             -  \n292    -    -    -    -    -    -             -  \n\n[66 rows x 35 columns]",
      "text/html": "<div>\n<style scoped>\n    .dataframe tbody tr th:only-of-type {\n        vertical-align: middle;\n    }\n\n    .dataframe tbody tr th {\n        vertical-align: top;\n    }\n\n    .dataframe thead th {\n        text-align: right;\n    }\n</style>\n<table border=\"1\" class=\"dataframe\">\n  <thead>\n    <tr style=\"text-align: right;\">\n      <th></th>\n      <th>Title</th>\n      <th>Year_recorded</th>\n      <th>Year_released</th>\n      <th>Album</th>\n      <th>Album_type</th>\n      <th>Record_label</th>\n      <th>Track_number</th>\n      <th>Duration</th>\n      <th>Songwriter</th>\n      <th>Lead_vocal</th>\n      <th>...</th>\n      <th>US_rec_world</th>\n      <th>AUS</th>\n      <th>US</th>\n      <th>GER</th>\n      <th>NLD</th>\n      <th>FRA</th>\n      <th>SWI</th>\n      <th>CAN</th>\n      <th>POL</th>\n      <th>Certification</th>\n    </tr>\n  </thead>\n  <tbody>\n    <tr>\n      <th>0</th>\n      <td>19th Nervous Breakdown</td>\n      <td>1965</td>\n      <td>1966</td>\n      <td>Got Live If You Want It!</td>\n      <td>Live</td>\n      <td>ABKCO Records / Universal</td>\n      <td>8.0</td>\n      <td>3:31</td>\n      <td>Jagger/Richards</td>\n      <td>Jagger</td>\n      <td>...</td>\n      <td>2</td>\n      <td>-</td>\n      <td>2</td>\n      <td>1</td>\n      <td>2</td>\n      <td>19</td>\n      <td>-</td>\n      <td>9</td>\n      <td>-</td>\n      <td>-</td>\n    </tr>\n    <tr>\n      <th>4</th>\n      <td>2120 South Michigan Avenue</td>\n      <td>1964</td>\n      <td>1964</td>\n      <td>12 X 5</td>\n      <td>Studio</td>\n      <td>ABKCO Records</td>\n      <td>7.0</td>\n      <td>3:39</td>\n      <td>Nanker Phelge[a]</td>\n      <td>instrumental</td>\n      <td>...</td>\n      <td>-</td>\n      <td>-</td>\n      <td>-</td>\n      <td>-</td>\n      <td>-</td>\n      <td>-</td>\n      <td>-</td>\n      <td>-</td>\n      <td>-</td>\n      <td>-</td>\n    </tr>\n    <tr>\n      <th>16</th>\n      <td>Around And Around</td>\n      <td>1964</td>\n      <td>1964</td>\n      <td>Love You Live</td>\n      <td>Live</td>\n      <td>Virgin</td>\n      <td>4.0</td>\n      <td>3:52</td>\n      <td>Chuck Berry</td>\n      <td>Jagger</td>\n      <td>...</td>\n      <td>-</td>\n      <td>-</td>\n      <td>-</td>\n      <td>-</td>\n      <td>-</td>\n      <td>-</td>\n      <td>-</td>\n      <td>-</td>\n      <td>-</td>\n      <td>-</td>\n    </tr>\n    <tr>\n      <th>17</th>\n      <td>As Tears Go By</td>\n      <td>1965</td>\n      <td>1965</td>\n      <td>December's Children (And Everybody's)</td>\n      <td>Studio</td>\n      <td>ABKCO Records</td>\n      <td>9.0</td>\n      <td>2:46</td>\n      <td>Jagger/Richards/Loog Oldham</td>\n      <td>Jagger</td>\n      <td>...</td>\n      <td>6</td>\n      <td>-</td>\n      <td>6</td>\n      <td>8</td>\n      <td>-</td>\n      <td>22</td>\n      <td>-</td>\n      <td>1</td>\n      <td>-</td>\n      <td>-</td>\n    </tr>\n    <tr>\n      <th>30</th>\n      <td>Blue Turns To Grey</td>\n      <td>1965</td>\n      <td>1965</td>\n      <td>December's Children (And Everybody's)</td>\n      <td>Studio</td>\n      <td>ABKCO Records</td>\n      <td>11.0</td>\n      <td>2:29</td>\n      <td>Jagger/Richards</td>\n      <td>Jagger</td>\n      <td>...</td>\n      <td>-</td>\n      <td>-</td>\n      <td>-</td>\n      <td>-</td>\n      <td>-</td>\n      <td>-</td>\n      <td>-</td>\n      <td>-</td>\n      <td>-</td>\n      <td>-</td>\n    </tr>\n    <tr>\n      <th>...</th>\n      <td>...</td>\n      <td>...</td>\n      <td>...</td>\n      <td>...</td>\n      <td>...</td>\n      <td>...</td>\n      <td>...</td>\n      <td>...</td>\n      <td>...</td>\n      <td>...</td>\n      <td>...</td>\n      <td>...</td>\n      <td>...</td>\n      <td>...</td>\n      <td>...</td>\n      <td>...</td>\n      <td>...</td>\n      <td>...</td>\n      <td>...</td>\n      <td>...</td>\n      <td>...</td>\n    </tr>\n    <tr>\n      <th>274</th>\n      <td>Under My Thumb</td>\n      <td>1966</td>\n      <td>1966</td>\n      <td>Got Live If You Want It!</td>\n      <td>Live</td>\n      <td>ABKCO Records / Universal</td>\n      <td>1.0</td>\n      <td>2:54</td>\n      <td>Jagger/Richards</td>\n      <td>Jagger</td>\n      <td>...</td>\n      <td>-</td>\n      <td>-</td>\n      <td>-</td>\n      <td>-</td>\n      <td>-</td>\n      <td>-</td>\n      <td>-</td>\n      <td>-</td>\n      <td>-</td>\n      <td>-</td>\n    </tr>\n    <tr>\n      <th>275</th>\n      <td>Under The Boardwalk</td>\n      <td>1964</td>\n      <td>1964</td>\n      <td>The Rolling Stones No.2</td>\n      <td>Studio</td>\n      <td>Decca</td>\n      <td>8.0</td>\n      <td>2:46</td>\n      <td>Kenny Young/Arthur Rednick</td>\n      <td>Jagger</td>\n      <td>...</td>\n      <td>-</td>\n      <td>-</td>\n      <td>-</td>\n      <td>-</td>\n      <td>-</td>\n      <td>-</td>\n      <td>-</td>\n      <td>-</td>\n      <td>-</td>\n      <td>-</td>\n    </tr>\n    <tr>\n      <th>280</th>\n      <td>What A Shame</td>\n      <td>1964</td>\n      <td>1965</td>\n      <td>The Rolling Stones, Now!</td>\n      <td>Studio</td>\n      <td>ABKCO Records</td>\n      <td>5.0</td>\n      <td>3:06</td>\n      <td>Jagger/Richards</td>\n      <td>Jagger</td>\n      <td>...</td>\n      <td>-</td>\n      <td>-</td>\n      <td>-</td>\n      <td>-</td>\n      <td>-</td>\n      <td>-</td>\n      <td>-</td>\n      <td>-</td>\n      <td>-</td>\n      <td>-</td>\n    </tr>\n    <tr>\n      <th>290</th>\n      <td>You Better Move On</td>\n      <td>1963</td>\n      <td>1964</td>\n      <td>December's Children (And Everybody's)</td>\n      <td>Studio</td>\n      <td>ABKCO Records</td>\n      <td>3.0</td>\n      <td>2:40</td>\n      <td>Arthur Alexander</td>\n      <td>Jagger</td>\n      <td>...</td>\n      <td>-</td>\n      <td>-</td>\n      <td>-</td>\n      <td>-</td>\n      <td>-</td>\n      <td>-</td>\n      <td>-</td>\n      <td>-</td>\n      <td>-</td>\n      <td>-</td>\n    </tr>\n    <tr>\n      <th>292</th>\n      <td>You Can't Catch Me</td>\n      <td>1964</td>\n      <td>1965</td>\n      <td>The Rolling Stones, Now!</td>\n      <td>Studio</td>\n      <td>ABKCO Records</td>\n      <td>3.0</td>\n      <td>3:40</td>\n      <td>Chuck Berry</td>\n      <td>Jagger</td>\n      <td>...</td>\n      <td>-</td>\n      <td>-</td>\n      <td>-</td>\n      <td>-</td>\n      <td>-</td>\n      <td>-</td>\n      <td>-</td>\n      <td>-</td>\n      <td>-</td>\n      <td>-</td>\n    </tr>\n  </tbody>\n</table>\n<p>66 rows × 35 columns</p>\n</div>"
     },
     "execution_count": 51,
     "metadata": {},
     "output_type": "execute_result"
    }
   ],
   "source": [
    "# Define early years using a list comprehension\n",
    "early_years = [y for y in range(1963, 1967)]\n",
    "early_years\n",
    "# Display the songs from the early years using a combination of <pd.df>.loc[] and isin()\n",
    "songs.loc[songs.Year_released.isin(early_years)]\n"
   ],
   "metadata": {
    "collapsed": false,
    "ExecuteTime": {
     "end_time": "2023-12-11T20:49:18.473842800Z",
     "start_time": "2023-12-11T20:49:18.374430300Z"
    }
   }
  },
  {
   "cell_type": "markdown",
   "source": [
    "### Grouping and sorting data\n",
    "- `<pd.df>['<column>'].unique()`, `<pd.df>['<column>'].nunique()`\n",
    "- `<pd.df>.<column>.groupby()`, `<pd.df>.groupby('<column>')`, `<pd.df>.groupby('<column>').get_group(<value>)`\n",
    "- `<pd.df>['<column>'].value_counts()`, `<pd.df>['<column>'].value_counts().sort_index()`, `<pd.df>['<column>'].value_counts().sort_index(inplace=True)`\n",
    "- `<pd.df>.sort_values(by='<column name>', ascending=False/True)`\n",
    "- `<pd.df>.groupby('<column>').<another column>.<f()>.sort_values(ascending=False)` (aggregate using function `f()`, e.g. `mean()`)\n",
    "- `<pd.df>.groupby('<column>').<another column>.agg(['<f1 name>', '<f2 name>', ...])` (aggregate using multiple functions, e.g. `mean()`, `count()`,...)\n",
    "\n",
    "If `sort_values()` is used after `agg([<'f1 name>', '<f2 name>', ...])` (`agg(['<f1 name>', '<f2 name>', ...]).sort_values(by='<f name>', ascending=False)`), it must be passed one positional argument (`by='<f name>'`) before the optional `ascending=False`.\n"
   ],
   "metadata": {
    "collapsed": false
   }
  },
  {
   "cell_type": "markdown",
   "source": [
    "How many unique values for `Year_released` are there in the dataset (`<pd.df>['<column>'].unique()`, `<pd.df>['<column>'].nunique()`)?"
   ],
   "metadata": {
    "collapsed": false
   }
  },
  {
   "cell_type": "code",
   "execution_count": 53,
   "outputs": [
    {
     "data": {
      "text/plain": "30"
     },
     "execution_count": 53,
     "metadata": {},
     "output_type": "execute_result"
    }
   ],
   "source": [
    "songs.Year_released.nunique()"
   ],
   "metadata": {
    "collapsed": false,
    "ExecuteTime": {
     "end_time": "2023-12-11T20:50:14.885983300Z",
     "start_time": "2023-12-11T20:50:14.776057500Z"
    }
   }
  },
  {
   "cell_type": "markdown",
   "source": [
    "Group the songs in the dataset by the year of release (`<pd.df>.<column>.groupby()`, `<pd.df>.groupby('<column>')`, `<pd.df>.groupby('<column>').get_group(<value>)`). The result can be `songs_by_year`. Display it, show its type, and explore its individual groups and their types."
   ],
   "metadata": {
    "collapsed": false
   }
  },
  {
   "cell_type": "code",
   "execution_count": 55,
   "outputs": [
    {
     "data": {
      "text/plain": "                          Title  Year_recorded  Year_released  \\\n4    2120 South Michigan Avenue           1964           1964   \n16            Around And Around           1964           1964   \n37                        Carol           1964           1964   \n45         Confessin' The Blues           1964           1964   \n46              Congratulations           1964           1964   \n68                  Empty Heart           1964           1964   \n85        Good Times, Bad Times           1964           1964   \n87               Grown Up Wrong           1964           1964   \n96               Heart Of Stone           1964           1964   \n122              If You Need Me           1964           1964   \n129           It's All Over Now           1964           1964   \n150          Little Red Rooster           1964           1964   \n170      Mona (I Need You Baby)           1964           1964   \n182               Not Fade Away           1964           1964   \n245                     Susie Q           1964           1964   \n262          Time Is On My Side           1964           1964   \n275         Under The Boardwalk           1964           1964   \n290          You Better Move On           1963           1964   \n\n                                     Album Album_type  \\\n4                                   12 X 5     Studio   \n16                           Love You Live       Live   \n37                    Get Yer Ya-Ya's Out!       Live   \n45                                  12 X 5     Studio   \n46                                  12 X 5     Studio   \n68                                  12 X 5     Studio   \n85                                  12 X 5     Studio   \n87                 The Rolling Stones No.2     Studio   \n96                The Rolling Stones, Now!     Studio   \n122                                 12 X 5     Studio   \n129                                 12 X 5     Studio   \n150                          Love You Live       Live   \n170               The Rolling Stones, Now!     Studio   \n182               Got Live If You Want It!       Live   \n245                The Rolling Stones No.2     Studio   \n262               Got Live If You Want It!       Live   \n275                The Rolling Stones No.2     Studio   \n290  December's Children (And Everybody's)     Studio   \n\n                  Record_label  Track_number Duration  \\\n4                ABKCO Records           7.0     3:39   \n16                      Virgin           4.0     3:52   \n37               ABKCO Records           2.0     3:46   \n45               ABKCO Records           2.0     2:48   \n46               ABKCO Records           9.0     2:29   \n68               ABKCO Records           3.0     2:38   \n85               ABKCO Records           5.0     2:31   \n87                       Decca           6.0     1:50   \n96               ABKCO Records           4.0     2:49   \n122              ABKCO Records          11.0     2:05   \n129              ABKCO Records           6.0     3:27   \n150                     Virgin           3.0     4:33   \n170              ABKCO Records           6.0     3:35   \n182  ABKCO Records / Universal           4.0     2:04   \n245                      Decca          12.0     1:50   \n262  ABKCO Records / Universal           9.0     2:49   \n275                      Decca           8.0     2:46   \n290              ABKCO Records           3.0     2:40   \n\n                                      Songwriter    Lead_vocal  ...  \\\n4                               Nanker Phelge[a]  instrumental  ...   \n16                                   Chuck Berry        Jagger  ...   \n37                                   Chuck Berry        Jagger  ...   \n45                      Jay McShann/Walter Brown        Jagger  ...   \n46                               Jagger/Richards        Jagger  ...   \n68                              Nanker Phelge[a]        Jagger  ...   \n85                               Jagger/Richards        Jagger  ...   \n87                               Jagger/Richards        Jagger  ...   \n96                               Jagger/Richards        Jagger  ...   \n122                Wilson Pickett/Robert Bateman        Jagger  ...   \n129                  Bobby Womack/Shirley Womack        Jagger  ...   \n150                                 Willie Dixon        Jagger  ...   \n170                                   Bo Diddley        Jagger  ...   \n182                     Buddy Holly/Norman Petty        Jagger  ...   \n245  Dale Hawkins/Stan Lewis/Eleanore Broadwater        Jagger  ...   \n262                    Norman Meade/Jimmy Norman        Jagger  ...   \n275                   Kenny Young/Arthur Rednick        Jagger  ...   \n290                             Arthur Alexander        Jagger  ...   \n\n     US_rec_world  AUS  US  GER  NLD  FRA  SWI  CAN  POL Certification  \n4               -    -   -    -    -    -    -    -    -             -  \n16              -    -   -    -    -    -    -    -    -             -  \n37              -    -   -    -    -    9    -    -    -             -  \n45              -    -   -    -    -    -    -    -    -             -  \n46              -    -   -    -    -    -    -    -    -             -  \n68              -    -   -    -    -    -    -    -    -             -  \n85              -    -   -    -    -    -    -    -    -             -  \n87              -    -   -    -    -    -    -    -    -             -  \n96             15    -  19    -    6   24   15    -    -             -  \n122             -    -   -    -    -    -    -    -    -             -  \n129            33    -  26   14    1    7    -   26    -             -  \n150             -    -   -   14    4   21    -    -    -             -  \n170             -    -   -    -    -    -    -    -    -             -  \n182            58    -  48    -    -    -    -    -    -             -  \n245             -    -   -    -    -    -    -    -    -             -  \n262            28    -   6   10   11    4    3    -    -             -  \n275             -    -   -    -    -    -    -    -    -             -  \n290             -    -   -    -    -    -    -    -    -             -  \n\n[18 rows x 35 columns]",
      "text/html": "<div>\n<style scoped>\n    .dataframe tbody tr th:only-of-type {\n        vertical-align: middle;\n    }\n\n    .dataframe tbody tr th {\n        vertical-align: top;\n    }\n\n    .dataframe thead th {\n        text-align: right;\n    }\n</style>\n<table border=\"1\" class=\"dataframe\">\n  <thead>\n    <tr style=\"text-align: right;\">\n      <th></th>\n      <th>Title</th>\n      <th>Year_recorded</th>\n      <th>Year_released</th>\n      <th>Album</th>\n      <th>Album_type</th>\n      <th>Record_label</th>\n      <th>Track_number</th>\n      <th>Duration</th>\n      <th>Songwriter</th>\n      <th>Lead_vocal</th>\n      <th>...</th>\n      <th>US_rec_world</th>\n      <th>AUS</th>\n      <th>US</th>\n      <th>GER</th>\n      <th>NLD</th>\n      <th>FRA</th>\n      <th>SWI</th>\n      <th>CAN</th>\n      <th>POL</th>\n      <th>Certification</th>\n    </tr>\n  </thead>\n  <tbody>\n    <tr>\n      <th>4</th>\n      <td>2120 South Michigan Avenue</td>\n      <td>1964</td>\n      <td>1964</td>\n      <td>12 X 5</td>\n      <td>Studio</td>\n      <td>ABKCO Records</td>\n      <td>7.0</td>\n      <td>3:39</td>\n      <td>Nanker Phelge[a]</td>\n      <td>instrumental</td>\n      <td>...</td>\n      <td>-</td>\n      <td>-</td>\n      <td>-</td>\n      <td>-</td>\n      <td>-</td>\n      <td>-</td>\n      <td>-</td>\n      <td>-</td>\n      <td>-</td>\n      <td>-</td>\n    </tr>\n    <tr>\n      <th>16</th>\n      <td>Around And Around</td>\n      <td>1964</td>\n      <td>1964</td>\n      <td>Love You Live</td>\n      <td>Live</td>\n      <td>Virgin</td>\n      <td>4.0</td>\n      <td>3:52</td>\n      <td>Chuck Berry</td>\n      <td>Jagger</td>\n      <td>...</td>\n      <td>-</td>\n      <td>-</td>\n      <td>-</td>\n      <td>-</td>\n      <td>-</td>\n      <td>-</td>\n      <td>-</td>\n      <td>-</td>\n      <td>-</td>\n      <td>-</td>\n    </tr>\n    <tr>\n      <th>37</th>\n      <td>Carol</td>\n      <td>1964</td>\n      <td>1964</td>\n      <td>Get Yer Ya-Ya's Out!</td>\n      <td>Live</td>\n      <td>ABKCO Records</td>\n      <td>2.0</td>\n      <td>3:46</td>\n      <td>Chuck Berry</td>\n      <td>Jagger</td>\n      <td>...</td>\n      <td>-</td>\n      <td>-</td>\n      <td>-</td>\n      <td>-</td>\n      <td>-</td>\n      <td>9</td>\n      <td>-</td>\n      <td>-</td>\n      <td>-</td>\n      <td>-</td>\n    </tr>\n    <tr>\n      <th>45</th>\n      <td>Confessin' The Blues</td>\n      <td>1964</td>\n      <td>1964</td>\n      <td>12 X 5</td>\n      <td>Studio</td>\n      <td>ABKCO Records</td>\n      <td>2.0</td>\n      <td>2:48</td>\n      <td>Jay McShann/Walter Brown</td>\n      <td>Jagger</td>\n      <td>...</td>\n      <td>-</td>\n      <td>-</td>\n      <td>-</td>\n      <td>-</td>\n      <td>-</td>\n      <td>-</td>\n      <td>-</td>\n      <td>-</td>\n      <td>-</td>\n      <td>-</td>\n    </tr>\n    <tr>\n      <th>46</th>\n      <td>Congratulations</td>\n      <td>1964</td>\n      <td>1964</td>\n      <td>12 X 5</td>\n      <td>Studio</td>\n      <td>ABKCO Records</td>\n      <td>9.0</td>\n      <td>2:29</td>\n      <td>Jagger/Richards</td>\n      <td>Jagger</td>\n      <td>...</td>\n      <td>-</td>\n      <td>-</td>\n      <td>-</td>\n      <td>-</td>\n      <td>-</td>\n      <td>-</td>\n      <td>-</td>\n      <td>-</td>\n      <td>-</td>\n      <td>-</td>\n    </tr>\n    <tr>\n      <th>68</th>\n      <td>Empty Heart</td>\n      <td>1964</td>\n      <td>1964</td>\n      <td>12 X 5</td>\n      <td>Studio</td>\n      <td>ABKCO Records</td>\n      <td>3.0</td>\n      <td>2:38</td>\n      <td>Nanker Phelge[a]</td>\n      <td>Jagger</td>\n      <td>...</td>\n      <td>-</td>\n      <td>-</td>\n      <td>-</td>\n      <td>-</td>\n      <td>-</td>\n      <td>-</td>\n      <td>-</td>\n      <td>-</td>\n      <td>-</td>\n      <td>-</td>\n    </tr>\n    <tr>\n      <th>85</th>\n      <td>Good Times, Bad Times</td>\n      <td>1964</td>\n      <td>1964</td>\n      <td>12 X 5</td>\n      <td>Studio</td>\n      <td>ABKCO Records</td>\n      <td>5.0</td>\n      <td>2:31</td>\n      <td>Jagger/Richards</td>\n      <td>Jagger</td>\n      <td>...</td>\n      <td>-</td>\n      <td>-</td>\n      <td>-</td>\n      <td>-</td>\n      <td>-</td>\n      <td>-</td>\n      <td>-</td>\n      <td>-</td>\n      <td>-</td>\n      <td>-</td>\n    </tr>\n    <tr>\n      <th>87</th>\n      <td>Grown Up Wrong</td>\n      <td>1964</td>\n      <td>1964</td>\n      <td>The Rolling Stones No.2</td>\n      <td>Studio</td>\n      <td>Decca</td>\n      <td>6.0</td>\n      <td>1:50</td>\n      <td>Jagger/Richards</td>\n      <td>Jagger</td>\n      <td>...</td>\n      <td>-</td>\n      <td>-</td>\n      <td>-</td>\n      <td>-</td>\n      <td>-</td>\n      <td>-</td>\n      <td>-</td>\n      <td>-</td>\n      <td>-</td>\n      <td>-</td>\n    </tr>\n    <tr>\n      <th>96</th>\n      <td>Heart Of Stone</td>\n      <td>1964</td>\n      <td>1964</td>\n      <td>The Rolling Stones, Now!</td>\n      <td>Studio</td>\n      <td>ABKCO Records</td>\n      <td>4.0</td>\n      <td>2:49</td>\n      <td>Jagger/Richards</td>\n      <td>Jagger</td>\n      <td>...</td>\n      <td>15</td>\n      <td>-</td>\n      <td>19</td>\n      <td>-</td>\n      <td>6</td>\n      <td>24</td>\n      <td>15</td>\n      <td>-</td>\n      <td>-</td>\n      <td>-</td>\n    </tr>\n    <tr>\n      <th>122</th>\n      <td>If You Need Me</td>\n      <td>1964</td>\n      <td>1964</td>\n      <td>12 X 5</td>\n      <td>Studio</td>\n      <td>ABKCO Records</td>\n      <td>11.0</td>\n      <td>2:05</td>\n      <td>Wilson Pickett/Robert Bateman</td>\n      <td>Jagger</td>\n      <td>...</td>\n      <td>-</td>\n      <td>-</td>\n      <td>-</td>\n      <td>-</td>\n      <td>-</td>\n      <td>-</td>\n      <td>-</td>\n      <td>-</td>\n      <td>-</td>\n      <td>-</td>\n    </tr>\n    <tr>\n      <th>129</th>\n      <td>It's All Over Now</td>\n      <td>1964</td>\n      <td>1964</td>\n      <td>12 X 5</td>\n      <td>Studio</td>\n      <td>ABKCO Records</td>\n      <td>6.0</td>\n      <td>3:27</td>\n      <td>Bobby Womack/Shirley Womack</td>\n      <td>Jagger</td>\n      <td>...</td>\n      <td>33</td>\n      <td>-</td>\n      <td>26</td>\n      <td>14</td>\n      <td>1</td>\n      <td>7</td>\n      <td>-</td>\n      <td>26</td>\n      <td>-</td>\n      <td>-</td>\n    </tr>\n    <tr>\n      <th>150</th>\n      <td>Little Red Rooster</td>\n      <td>1964</td>\n      <td>1964</td>\n      <td>Love You Live</td>\n      <td>Live</td>\n      <td>Virgin</td>\n      <td>3.0</td>\n      <td>4:33</td>\n      <td>Willie Dixon</td>\n      <td>Jagger</td>\n      <td>...</td>\n      <td>-</td>\n      <td>-</td>\n      <td>-</td>\n      <td>14</td>\n      <td>4</td>\n      <td>21</td>\n      <td>-</td>\n      <td>-</td>\n      <td>-</td>\n      <td>-</td>\n    </tr>\n    <tr>\n      <th>170</th>\n      <td>Mona (I Need You Baby)</td>\n      <td>1964</td>\n      <td>1964</td>\n      <td>The Rolling Stones, Now!</td>\n      <td>Studio</td>\n      <td>ABKCO Records</td>\n      <td>6.0</td>\n      <td>3:35</td>\n      <td>Bo Diddley</td>\n      <td>Jagger</td>\n      <td>...</td>\n      <td>-</td>\n      <td>-</td>\n      <td>-</td>\n      <td>-</td>\n      <td>-</td>\n      <td>-</td>\n      <td>-</td>\n      <td>-</td>\n      <td>-</td>\n      <td>-</td>\n    </tr>\n    <tr>\n      <th>182</th>\n      <td>Not Fade Away</td>\n      <td>1964</td>\n      <td>1964</td>\n      <td>Got Live If You Want It!</td>\n      <td>Live</td>\n      <td>ABKCO Records / Universal</td>\n      <td>4.0</td>\n      <td>2:04</td>\n      <td>Buddy Holly/Norman Petty</td>\n      <td>Jagger</td>\n      <td>...</td>\n      <td>58</td>\n      <td>-</td>\n      <td>48</td>\n      <td>-</td>\n      <td>-</td>\n      <td>-</td>\n      <td>-</td>\n      <td>-</td>\n      <td>-</td>\n      <td>-</td>\n    </tr>\n    <tr>\n      <th>245</th>\n      <td>Susie Q</td>\n      <td>1964</td>\n      <td>1964</td>\n      <td>The Rolling Stones No.2</td>\n      <td>Studio</td>\n      <td>Decca</td>\n      <td>12.0</td>\n      <td>1:50</td>\n      <td>Dale Hawkins/Stan Lewis/Eleanore Broadwater</td>\n      <td>Jagger</td>\n      <td>...</td>\n      <td>-</td>\n      <td>-</td>\n      <td>-</td>\n      <td>-</td>\n      <td>-</td>\n      <td>-</td>\n      <td>-</td>\n      <td>-</td>\n      <td>-</td>\n      <td>-</td>\n    </tr>\n    <tr>\n      <th>262</th>\n      <td>Time Is On My Side</td>\n      <td>1964</td>\n      <td>1964</td>\n      <td>Got Live If You Want It!</td>\n      <td>Live</td>\n      <td>ABKCO Records / Universal</td>\n      <td>9.0</td>\n      <td>2:49</td>\n      <td>Norman Meade/Jimmy Norman</td>\n      <td>Jagger</td>\n      <td>...</td>\n      <td>28</td>\n      <td>-</td>\n      <td>6</td>\n      <td>10</td>\n      <td>11</td>\n      <td>4</td>\n      <td>3</td>\n      <td>-</td>\n      <td>-</td>\n      <td>-</td>\n    </tr>\n    <tr>\n      <th>275</th>\n      <td>Under The Boardwalk</td>\n      <td>1964</td>\n      <td>1964</td>\n      <td>The Rolling Stones No.2</td>\n      <td>Studio</td>\n      <td>Decca</td>\n      <td>8.0</td>\n      <td>2:46</td>\n      <td>Kenny Young/Arthur Rednick</td>\n      <td>Jagger</td>\n      <td>...</td>\n      <td>-</td>\n      <td>-</td>\n      <td>-</td>\n      <td>-</td>\n      <td>-</td>\n      <td>-</td>\n      <td>-</td>\n      <td>-</td>\n      <td>-</td>\n      <td>-</td>\n    </tr>\n    <tr>\n      <th>290</th>\n      <td>You Better Move On</td>\n      <td>1963</td>\n      <td>1964</td>\n      <td>December's Children (And Everybody's)</td>\n      <td>Studio</td>\n      <td>ABKCO Records</td>\n      <td>3.0</td>\n      <td>2:40</td>\n      <td>Arthur Alexander</td>\n      <td>Jagger</td>\n      <td>...</td>\n      <td>-</td>\n      <td>-</td>\n      <td>-</td>\n      <td>-</td>\n      <td>-</td>\n      <td>-</td>\n      <td>-</td>\n      <td>-</td>\n      <td>-</td>\n      <td>-</td>\n    </tr>\n  </tbody>\n</table>\n<p>18 rows × 35 columns</p>\n</div>"
     },
     "execution_count": 55,
     "metadata": {},
     "output_type": "execute_result"
    }
   ],
   "source": [
    "songs_by_year = songs.groupby('Year_released')\n",
    "songs_by_year\n",
    "songs_by_year.get_group(1964)"
   ],
   "metadata": {
    "collapsed": false,
    "ExecuteTime": {
     "end_time": "2023-12-11T20:51:48.711805100Z",
     "start_time": "2023-12-11T20:51:48.577380900Z"
    }
   }
  },
  {
   "cell_type": "markdown",
   "source": [
    "How many songs are there in the dataset for each `Year_released` (`<pd.df>['<column>'].value_counts()`, `<pd.df>['<column>'].value_counts()[<year>]`, `<pd.df>['<column>'].value_counts().sort_index()`)?\n",
    "\n",
    "Note that `value_counts()` returns a `pd.Series` object, with the index equal to `<pd.df>['<column>'].unique()` values."
   ],
   "metadata": {
    "collapsed": false
   }
  },
  {
   "cell_type": "code",
   "execution_count": 57,
   "outputs": [
    {
     "data": {
      "text/plain": "Year_released\n1964    18\n1965    30\n1966    18\n1967    25\n1968     9\n1969     9\n1970     1\n1971    10\n1972    18\n1973    10\n1974    10\n1975     2\n1976     6\n1977     2\n1978    10\n1980    10\n1981    11\n1982     2\n1983    10\n1986    11\n1989    12\n1991     2\n1994    15\n1995     2\n1997    13\n1998     1\n2004     2\n2005    15\n2008     1\n2016    12\nName: count, dtype: int64"
     },
     "execution_count": 57,
     "metadata": {},
     "output_type": "execute_result"
    }
   ],
   "source": [
    "songs.Year_released.value_counts()\n",
    "songs.Year_released.value_counts().sort_index()"
   ],
   "metadata": {
    "collapsed": false,
    "ExecuteTime": {
     "end_time": "2023-12-11T20:53:09.429527900Z",
     "start_time": "2023-12-11T20:53:09.312157Z"
    }
   }
  },
  {
   "cell_type": "markdown",
   "source": [
    "Sort the songs from the dataset by the year of release (`<pd.df>.sort_values(by='<column name>', ascending=False/True)`).\n",
    "(It is also possible to use `inplace=True` in `sort_values()`, but it will change the order of songs in the dataset from that point on.)"
   ],
   "metadata": {
    "collapsed": false
   }
  },
  {
   "cell_type": "code",
   "execution_count": 111,
   "outputs": [
    {
     "data": {
      "text/plain": "                     Title  Year_recorded  Year_released  \\\n43          Commit A Crime           2015           2016   \n135         Just Your Fool           2015           2016   \n107          Hoo Doo Blues           2015           2016   \n112  I Can't Quit You Baby           2015           2016   \n29       Blue And Lonesome           2015           2016   \n..                     ...            ...            ...   \n122         If You Need Me           1964           1964   \n129      It's All Over Now           1964           1964   \n96          Heart Of Stone           1964           1964   \n262     Time Is On My Side           1964           1964   \n37                   Carol           1964           1964   \n\n                        Album Album_type               Record_label  \\\n43            Blue & Lonesome     Studio       Interscope / Polydor   \n135           Blue & Lonesome     Studio       Interscope / Polydor   \n107           Blue & Lonesome     Studio       Interscope / Polydor   \n112           Blue & Lonesome     Studio       Interscope / Polydor   \n29            Blue & Lonesome     Studio       Interscope / Polydor   \n..                        ...        ...                        ...   \n122                    12 X 5     Studio              ABKCO Records   \n129                    12 X 5     Studio              ABKCO Records   \n96   The Rolling Stones, Now!     Studio              ABKCO Records   \n262  Got Live If You Want It!       Live  ABKCO Records / Universal   \n37       Get Yer Ya-Ya's Out!       Live              ABKCO Records   \n\n     Track_number Duration                     Songwriter Lead_vocal  ...  \\\n43            2.0     3:38                   Howlin' Wolf     Jagger  ...   \n135           1.0     2:16                  Buddy Johnson     Jagger  ...   \n107           9.0     2:36          Otis Hicks/Jerry West     Jagger  ...   \n112          12.0     5:13                   Willie Dixon     Jagger  ...   \n29            3.0     3:07                   Memphis Slim     Jagger  ...   \n..            ...      ...                            ...        ...  ...   \n122          11.0     2:05  Wilson Pickett/Robert Bateman     Jagger  ...   \n129           6.0     3:27    Bobby Womack/Shirley Womack     Jagger  ...   \n96            4.0     2:49                Jagger/Richards     Jagger  ...   \n262           9.0     2:49      Norman Meade/Jimmy Norman     Jagger  ...   \n37            2.0     3:46                    Chuck Berry     Jagger  ...   \n\n     US_rec_world  AUS  US  GER  NLD  FRA  SWI  CAN  POL Certification  \n43              -    -   -    -    -    -    -    -    -             -  \n135             -    -   -    -    -    -    -    -    -             -  \n107             -    -   -    -    -    -    -    -    -             -  \n112             -    -   -    -    -    -    -    -    -             -  \n29              -    -   -    -    -    -    -    -    -             -  \n..            ...  ...  ..  ...  ...  ...  ...  ...  ...           ...  \n122             -    -   -    -    -    -    -    -    -             -  \n129            33    -  26   14    1    7    -   26    -             -  \n96             15    -  19    -    6   24   15    -    -             -  \n262            28    -   6   10   11    4    3    -    -             -  \n37              -    -   -    -    -    9    -    -    -             -  \n\n[297 rows x 35 columns]",
      "text/html": "<div>\n<style scoped>\n    .dataframe tbody tr th:only-of-type {\n        vertical-align: middle;\n    }\n\n    .dataframe tbody tr th {\n        vertical-align: top;\n    }\n\n    .dataframe thead th {\n        text-align: right;\n    }\n</style>\n<table border=\"1\" class=\"dataframe\">\n  <thead>\n    <tr style=\"text-align: right;\">\n      <th></th>\n      <th>Title</th>\n      <th>Year_recorded</th>\n      <th>Year_released</th>\n      <th>Album</th>\n      <th>Album_type</th>\n      <th>Record_label</th>\n      <th>Track_number</th>\n      <th>Duration</th>\n      <th>Songwriter</th>\n      <th>Lead_vocal</th>\n      <th>...</th>\n      <th>US_rec_world</th>\n      <th>AUS</th>\n      <th>US</th>\n      <th>GER</th>\n      <th>NLD</th>\n      <th>FRA</th>\n      <th>SWI</th>\n      <th>CAN</th>\n      <th>POL</th>\n      <th>Certification</th>\n    </tr>\n  </thead>\n  <tbody>\n    <tr>\n      <th>43</th>\n      <td>Commit A Crime</td>\n      <td>2015</td>\n      <td>2016</td>\n      <td>Blue &amp; Lonesome</td>\n      <td>Studio</td>\n      <td>Interscope / Polydor</td>\n      <td>2.0</td>\n      <td>3:38</td>\n      <td>Howlin' Wolf</td>\n      <td>Jagger</td>\n      <td>...</td>\n      <td>-</td>\n      <td>-</td>\n      <td>-</td>\n      <td>-</td>\n      <td>-</td>\n      <td>-</td>\n      <td>-</td>\n      <td>-</td>\n      <td>-</td>\n      <td>-</td>\n    </tr>\n    <tr>\n      <th>135</th>\n      <td>Just Your Fool</td>\n      <td>2015</td>\n      <td>2016</td>\n      <td>Blue &amp; Lonesome</td>\n      <td>Studio</td>\n      <td>Interscope / Polydor</td>\n      <td>1.0</td>\n      <td>2:16</td>\n      <td>Buddy Johnson</td>\n      <td>Jagger</td>\n      <td>...</td>\n      <td>-</td>\n      <td>-</td>\n      <td>-</td>\n      <td>-</td>\n      <td>-</td>\n      <td>-</td>\n      <td>-</td>\n      <td>-</td>\n      <td>-</td>\n      <td>-</td>\n    </tr>\n    <tr>\n      <th>107</th>\n      <td>Hoo Doo Blues</td>\n      <td>2015</td>\n      <td>2016</td>\n      <td>Blue &amp; Lonesome</td>\n      <td>Studio</td>\n      <td>Interscope / Polydor</td>\n      <td>9.0</td>\n      <td>2:36</td>\n      <td>Otis Hicks/Jerry West</td>\n      <td>Jagger</td>\n      <td>...</td>\n      <td>-</td>\n      <td>-</td>\n      <td>-</td>\n      <td>-</td>\n      <td>-</td>\n      <td>-</td>\n      <td>-</td>\n      <td>-</td>\n      <td>-</td>\n      <td>-</td>\n    </tr>\n    <tr>\n      <th>112</th>\n      <td>I Can't Quit You Baby</td>\n      <td>2015</td>\n      <td>2016</td>\n      <td>Blue &amp; Lonesome</td>\n      <td>Studio</td>\n      <td>Interscope / Polydor</td>\n      <td>12.0</td>\n      <td>5:13</td>\n      <td>Willie Dixon</td>\n      <td>Jagger</td>\n      <td>...</td>\n      <td>-</td>\n      <td>-</td>\n      <td>-</td>\n      <td>-</td>\n      <td>-</td>\n      <td>-</td>\n      <td>-</td>\n      <td>-</td>\n      <td>-</td>\n      <td>-</td>\n    </tr>\n    <tr>\n      <th>29</th>\n      <td>Blue And Lonesome</td>\n      <td>2015</td>\n      <td>2016</td>\n      <td>Blue &amp; Lonesome</td>\n      <td>Studio</td>\n      <td>Interscope / Polydor</td>\n      <td>3.0</td>\n      <td>3:07</td>\n      <td>Memphis Slim</td>\n      <td>Jagger</td>\n      <td>...</td>\n      <td>-</td>\n      <td>-</td>\n      <td>-</td>\n      <td>-</td>\n      <td>-</td>\n      <td>-</td>\n      <td>-</td>\n      <td>-</td>\n      <td>-</td>\n      <td>-</td>\n    </tr>\n    <tr>\n      <th>...</th>\n      <td>...</td>\n      <td>...</td>\n      <td>...</td>\n      <td>...</td>\n      <td>...</td>\n      <td>...</td>\n      <td>...</td>\n      <td>...</td>\n      <td>...</td>\n      <td>...</td>\n      <td>...</td>\n      <td>...</td>\n      <td>...</td>\n      <td>...</td>\n      <td>...</td>\n      <td>...</td>\n      <td>...</td>\n      <td>...</td>\n      <td>...</td>\n      <td>...</td>\n      <td>...</td>\n    </tr>\n    <tr>\n      <th>122</th>\n      <td>If You Need Me</td>\n      <td>1964</td>\n      <td>1964</td>\n      <td>12 X 5</td>\n      <td>Studio</td>\n      <td>ABKCO Records</td>\n      <td>11.0</td>\n      <td>2:05</td>\n      <td>Wilson Pickett/Robert Bateman</td>\n      <td>Jagger</td>\n      <td>...</td>\n      <td>-</td>\n      <td>-</td>\n      <td>-</td>\n      <td>-</td>\n      <td>-</td>\n      <td>-</td>\n      <td>-</td>\n      <td>-</td>\n      <td>-</td>\n      <td>-</td>\n    </tr>\n    <tr>\n      <th>129</th>\n      <td>It's All Over Now</td>\n      <td>1964</td>\n      <td>1964</td>\n      <td>12 X 5</td>\n      <td>Studio</td>\n      <td>ABKCO Records</td>\n      <td>6.0</td>\n      <td>3:27</td>\n      <td>Bobby Womack/Shirley Womack</td>\n      <td>Jagger</td>\n      <td>...</td>\n      <td>33</td>\n      <td>-</td>\n      <td>26</td>\n      <td>14</td>\n      <td>1</td>\n      <td>7</td>\n      <td>-</td>\n      <td>26</td>\n      <td>-</td>\n      <td>-</td>\n    </tr>\n    <tr>\n      <th>96</th>\n      <td>Heart Of Stone</td>\n      <td>1964</td>\n      <td>1964</td>\n      <td>The Rolling Stones, Now!</td>\n      <td>Studio</td>\n      <td>ABKCO Records</td>\n      <td>4.0</td>\n      <td>2:49</td>\n      <td>Jagger/Richards</td>\n      <td>Jagger</td>\n      <td>...</td>\n      <td>15</td>\n      <td>-</td>\n      <td>19</td>\n      <td>-</td>\n      <td>6</td>\n      <td>24</td>\n      <td>15</td>\n      <td>-</td>\n      <td>-</td>\n      <td>-</td>\n    </tr>\n    <tr>\n      <th>262</th>\n      <td>Time Is On My Side</td>\n      <td>1964</td>\n      <td>1964</td>\n      <td>Got Live If You Want It!</td>\n      <td>Live</td>\n      <td>ABKCO Records / Universal</td>\n      <td>9.0</td>\n      <td>2:49</td>\n      <td>Norman Meade/Jimmy Norman</td>\n      <td>Jagger</td>\n      <td>...</td>\n      <td>28</td>\n      <td>-</td>\n      <td>6</td>\n      <td>10</td>\n      <td>11</td>\n      <td>4</td>\n      <td>3</td>\n      <td>-</td>\n      <td>-</td>\n      <td>-</td>\n    </tr>\n    <tr>\n      <th>37</th>\n      <td>Carol</td>\n      <td>1964</td>\n      <td>1964</td>\n      <td>Get Yer Ya-Ya's Out!</td>\n      <td>Live</td>\n      <td>ABKCO Records</td>\n      <td>2.0</td>\n      <td>3:46</td>\n      <td>Chuck Berry</td>\n      <td>Jagger</td>\n      <td>...</td>\n      <td>-</td>\n      <td>-</td>\n      <td>-</td>\n      <td>-</td>\n      <td>-</td>\n      <td>9</td>\n      <td>-</td>\n      <td>-</td>\n      <td>-</td>\n      <td>-</td>\n    </tr>\n  </tbody>\n</table>\n<p>297 rows × 35 columns</p>\n</div>"
     },
     "execution_count": 111,
     "metadata": {},
     "output_type": "execute_result"
    }
   ],
   "source": [
    "songs.sort_values(by='Year_released', ascending=False)\n",
    "# songs.index"
   ],
   "metadata": {
    "collapsed": false,
    "ExecuteTime": {
     "end_time": "2023-12-12T12:46:40.030035700Z",
     "start_time": "2023-12-12T12:46:39.896052100Z"
    }
   }
  },
  {
   "cell_type": "markdown",
   "source": [
    "Group the songs in the dataset by the year of release and display `mean` and/or `max` duration of the songs in each year, as well as the number (`count`) of songs in each year (`<pd.df>.groupby('<column>').<another column>.<f()>.sort_values(ascending=False)` (aggregate using function `f()`, e.g. `mean()`), `<pd.df>.groupby('<column>').<another column>.agg(['f1 name>', '<f2 name>', ...])` (aggregate using multiple functions, e.g. `mean()`, `count()`, `max()`,...)).\n",
    "If `sort_values()` is used after `agg([<'f1 name>', '<f2 name>', ...])` (`agg(['<f1 name>', '<f2 name>', ...]).sort_values(by='<f name>', ascending=False)`), it must be passed one positional argument (`by='<f name>'`) before the optional `ascending=False`."
   ],
   "metadata": {
    "collapsed": false
   }
  },
  {
   "cell_type": "code",
   "execution_count": 60,
   "outputs": [
    {
     "data": {
      "text/plain": "                        Title Duration\n50                   Corinna      0:00\n177      The Nearness Of You      0:00\n205             Rock Me Baby      0:00\n283  Who's Been Sleeping Here     0:00",
      "text/html": "<div>\n<style scoped>\n    .dataframe tbody tr th:only-of-type {\n        vertical-align: middle;\n    }\n\n    .dataframe tbody tr th {\n        vertical-align: top;\n    }\n\n    .dataframe thead th {\n        text-align: right;\n    }\n</style>\n<table border=\"1\" class=\"dataframe\">\n  <thead>\n    <tr style=\"text-align: right;\">\n      <th></th>\n      <th>Title</th>\n      <th>Duration</th>\n    </tr>\n  </thead>\n  <tbody>\n    <tr>\n      <th>50</th>\n      <td>Corinna</td>\n      <td>0:00</td>\n    </tr>\n    <tr>\n      <th>177</th>\n      <td>The Nearness Of You</td>\n      <td>0:00</td>\n    </tr>\n    <tr>\n      <th>205</th>\n      <td>Rock Me Baby</td>\n      <td>0:00</td>\n    </tr>\n    <tr>\n      <th>283</th>\n      <td>Who's Been Sleeping Here</td>\n      <td>0:00</td>\n    </tr>\n  </tbody>\n</table>\n</div>"
     },
     "execution_count": 60,
     "metadata": {},
     "output_type": "execute_result"
    }
   ],
   "source": [
    "# To make all strings in songs.Duration look alike, insert placeholder values of the form 'mm:ss' \n",
    "# for those that are NaN, or that have been previously set to 'No', or the like\n",
    "i = songs.Duration == 'No'\n",
    "songs.loc[i, ['Title', 'Duration']]\n",
    "\n",
    "songs.loc[i, 'Duration'] = '0:00'\n",
    "songs.loc[i, ['Title', 'Duration']]"
   ],
   "metadata": {
    "collapsed": false,
    "ExecuteTime": {
     "end_time": "2023-12-11T20:57:18.829491Z",
     "start_time": "2023-12-11T20:57:18.720727100Z"
    }
   }
  },
  {
   "cell_type": "code",
   "execution_count": 64,
   "outputs": [
    {
     "data": {
      "text/plain": "297"
     },
     "execution_count": 64,
     "metadata": {},
     "output_type": "execute_result"
    }
   ],
   "source": [
    "# Make sure that now all strings in songs.Duration are of the form 'mm:ss', i.e. they contain ':'\n",
    "# using len(songs.Duration.str.contains(':'))\n",
    "len(songs.Duration.str.contains(':'))"
   ],
   "metadata": {
    "collapsed": false,
    "ExecuteTime": {
     "end_time": "2023-12-11T21:08:19.475371Z",
     "start_time": "2023-12-11T21:08:19.365393500Z"
    }
   }
  },
  {
   "cell_type": "code",
   "execution_count": 67,
   "outputs": [
    {
     "data": {
      "text/plain": "                          Title  Year_recorded  Year_released  \\\n0        19th Nervous Breakdown           1965           1966   \n1                 100 Years Ago           1972           1973   \n2    2000 Light Years From Home           1967           1967   \n3                      2000 Man           1967           1967   \n4    2120 South Michigan Avenue           1964           1964   \n..                          ...            ...            ...   \n292          You Can't Catch Me           1964           1965   \n293   You Don't Have To Mean It           1997           1997   \n294          You Got Me Rocking           1993           1994   \n295          You Got The Silver           1969           1969   \n296              You Gotta Move           1969           1971   \n\n                               Album Album_type               Record_label  \\\n0           Got Live If You Want It!       Live  ABKCO Records / Universal   \n1                    Goats Head Soup     Studio       Interscope / Polydor   \n2    Their Satanic Majesties Request     Studio              ABKCO Records   \n3    Their Satanic Majesties Request     Studio              ABKCO Records   \n4                             12 X 5     Studio              ABKCO Records   \n..                               ...        ...                        ...   \n292         The Rolling Stones, Now!     Studio              ABKCO Records   \n293               Bridges to Babylon     Studio                     Virgin   \n294                      No Security       Live                     Virgin   \n295                     Let It Bleed     Studio              ABKCO Records   \n296                   Sticky Fingers     Studio                     Virgin   \n\n     Track_number  Duration                Songwriter    Lead_vocal  ...  \\\n0             8.0       211           Jagger/Richards        Jagger  ...   \n1             2.0       238           Jagger/Richards        Jagger  ...   \n2             9.0       285           Jagger/Richards        Jagger  ...   \n3             4.0       187           Jagger/Richards        Jagger  ...   \n4             7.0       219          Nanker Phelge[a]  instrumental  ...   \n..            ...       ...                       ...           ...  ...   \n292           3.0       220               Chuck Berry        Jagger  ...   \n293           6.0       223           Jagger/Richards      Richards  ...   \n294           2.0       208           Jagger/Richards        Jagger  ...   \n295           7.0       170           Jagger/Richards      Richards  ...   \n296           5.0       153  Fred McDowell/Gary Davis        Jagger  ...   \n\n     US_rec_world  AUS  US  GER  NLD  FRA  SWI  CAN  POL Certification  \n0               2    -   2    1    2   19    -    9    -             -  \n1               -    -   -    -    -    -    -    -    -             -  \n2               -    -   -    5    3    -    -    -    -             -  \n3               -    -   -    -    -    -    -    -    -             -  \n4               -    -   -    -    -    -    -    -    -             -  \n..            ...  ...  ..  ...  ...  ...  ...  ...  ...           ...  \n292             -    -   -    -    -    -    -    -    -             -  \n293             -    -   -    -    -    -    -    -    -             -  \n294             -    -   -    -   39    -    -   29   32             -  \n295             -    -   -    -    -    -    -    -    -             -  \n296             -    -   -    -    -    -    -    -    -             -  \n\n[297 rows x 35 columns]",
      "text/html": "<div>\n<style scoped>\n    .dataframe tbody tr th:only-of-type {\n        vertical-align: middle;\n    }\n\n    .dataframe tbody tr th {\n        vertical-align: top;\n    }\n\n    .dataframe thead th {\n        text-align: right;\n    }\n</style>\n<table border=\"1\" class=\"dataframe\">\n  <thead>\n    <tr style=\"text-align: right;\">\n      <th></th>\n      <th>Title</th>\n      <th>Year_recorded</th>\n      <th>Year_released</th>\n      <th>Album</th>\n      <th>Album_type</th>\n      <th>Record_label</th>\n      <th>Track_number</th>\n      <th>Duration</th>\n      <th>Songwriter</th>\n      <th>Lead_vocal</th>\n      <th>...</th>\n      <th>US_rec_world</th>\n      <th>AUS</th>\n      <th>US</th>\n      <th>GER</th>\n      <th>NLD</th>\n      <th>FRA</th>\n      <th>SWI</th>\n      <th>CAN</th>\n      <th>POL</th>\n      <th>Certification</th>\n    </tr>\n  </thead>\n  <tbody>\n    <tr>\n      <th>0</th>\n      <td>19th Nervous Breakdown</td>\n      <td>1965</td>\n      <td>1966</td>\n      <td>Got Live If You Want It!</td>\n      <td>Live</td>\n      <td>ABKCO Records / Universal</td>\n      <td>8.0</td>\n      <td>211</td>\n      <td>Jagger/Richards</td>\n      <td>Jagger</td>\n      <td>...</td>\n      <td>2</td>\n      <td>-</td>\n      <td>2</td>\n      <td>1</td>\n      <td>2</td>\n      <td>19</td>\n      <td>-</td>\n      <td>9</td>\n      <td>-</td>\n      <td>-</td>\n    </tr>\n    <tr>\n      <th>1</th>\n      <td>100 Years Ago</td>\n      <td>1972</td>\n      <td>1973</td>\n      <td>Goats Head Soup</td>\n      <td>Studio</td>\n      <td>Interscope / Polydor</td>\n      <td>2.0</td>\n      <td>238</td>\n      <td>Jagger/Richards</td>\n      <td>Jagger</td>\n      <td>...</td>\n      <td>-</td>\n      <td>-</td>\n      <td>-</td>\n      <td>-</td>\n      <td>-</td>\n      <td>-</td>\n      <td>-</td>\n      <td>-</td>\n      <td>-</td>\n      <td>-</td>\n    </tr>\n    <tr>\n      <th>2</th>\n      <td>2000 Light Years From Home</td>\n      <td>1967</td>\n      <td>1967</td>\n      <td>Their Satanic Majesties Request</td>\n      <td>Studio</td>\n      <td>ABKCO Records</td>\n      <td>9.0</td>\n      <td>285</td>\n      <td>Jagger/Richards</td>\n      <td>Jagger</td>\n      <td>...</td>\n      <td>-</td>\n      <td>-</td>\n      <td>-</td>\n      <td>5</td>\n      <td>3</td>\n      <td>-</td>\n      <td>-</td>\n      <td>-</td>\n      <td>-</td>\n      <td>-</td>\n    </tr>\n    <tr>\n      <th>3</th>\n      <td>2000 Man</td>\n      <td>1967</td>\n      <td>1967</td>\n      <td>Their Satanic Majesties Request</td>\n      <td>Studio</td>\n      <td>ABKCO Records</td>\n      <td>4.0</td>\n      <td>187</td>\n      <td>Jagger/Richards</td>\n      <td>Jagger</td>\n      <td>...</td>\n      <td>-</td>\n      <td>-</td>\n      <td>-</td>\n      <td>-</td>\n      <td>-</td>\n      <td>-</td>\n      <td>-</td>\n      <td>-</td>\n      <td>-</td>\n      <td>-</td>\n    </tr>\n    <tr>\n      <th>4</th>\n      <td>2120 South Michigan Avenue</td>\n      <td>1964</td>\n      <td>1964</td>\n      <td>12 X 5</td>\n      <td>Studio</td>\n      <td>ABKCO Records</td>\n      <td>7.0</td>\n      <td>219</td>\n      <td>Nanker Phelge[a]</td>\n      <td>instrumental</td>\n      <td>...</td>\n      <td>-</td>\n      <td>-</td>\n      <td>-</td>\n      <td>-</td>\n      <td>-</td>\n      <td>-</td>\n      <td>-</td>\n      <td>-</td>\n      <td>-</td>\n      <td>-</td>\n    </tr>\n    <tr>\n      <th>...</th>\n      <td>...</td>\n      <td>...</td>\n      <td>...</td>\n      <td>...</td>\n      <td>...</td>\n      <td>...</td>\n      <td>...</td>\n      <td>...</td>\n      <td>...</td>\n      <td>...</td>\n      <td>...</td>\n      <td>...</td>\n      <td>...</td>\n      <td>...</td>\n      <td>...</td>\n      <td>...</td>\n      <td>...</td>\n      <td>...</td>\n      <td>...</td>\n      <td>...</td>\n      <td>...</td>\n    </tr>\n    <tr>\n      <th>292</th>\n      <td>You Can't Catch Me</td>\n      <td>1964</td>\n      <td>1965</td>\n      <td>The Rolling Stones, Now!</td>\n      <td>Studio</td>\n      <td>ABKCO Records</td>\n      <td>3.0</td>\n      <td>220</td>\n      <td>Chuck Berry</td>\n      <td>Jagger</td>\n      <td>...</td>\n      <td>-</td>\n      <td>-</td>\n      <td>-</td>\n      <td>-</td>\n      <td>-</td>\n      <td>-</td>\n      <td>-</td>\n      <td>-</td>\n      <td>-</td>\n      <td>-</td>\n    </tr>\n    <tr>\n      <th>293</th>\n      <td>You Don't Have To Mean It</td>\n      <td>1997</td>\n      <td>1997</td>\n      <td>Bridges to Babylon</td>\n      <td>Studio</td>\n      <td>Virgin</td>\n      <td>6.0</td>\n      <td>223</td>\n      <td>Jagger/Richards</td>\n      <td>Richards</td>\n      <td>...</td>\n      <td>-</td>\n      <td>-</td>\n      <td>-</td>\n      <td>-</td>\n      <td>-</td>\n      <td>-</td>\n      <td>-</td>\n      <td>-</td>\n      <td>-</td>\n      <td>-</td>\n    </tr>\n    <tr>\n      <th>294</th>\n      <td>You Got Me Rocking</td>\n      <td>1993</td>\n      <td>1994</td>\n      <td>No Security</td>\n      <td>Live</td>\n      <td>Virgin</td>\n      <td>2.0</td>\n      <td>208</td>\n      <td>Jagger/Richards</td>\n      <td>Jagger</td>\n      <td>...</td>\n      <td>-</td>\n      <td>-</td>\n      <td>-</td>\n      <td>-</td>\n      <td>39</td>\n      <td>-</td>\n      <td>-</td>\n      <td>29</td>\n      <td>32</td>\n      <td>-</td>\n    </tr>\n    <tr>\n      <th>295</th>\n      <td>You Got The Silver</td>\n      <td>1969</td>\n      <td>1969</td>\n      <td>Let It Bleed</td>\n      <td>Studio</td>\n      <td>ABKCO Records</td>\n      <td>7.0</td>\n      <td>170</td>\n      <td>Jagger/Richards</td>\n      <td>Richards</td>\n      <td>...</td>\n      <td>-</td>\n      <td>-</td>\n      <td>-</td>\n      <td>-</td>\n      <td>-</td>\n      <td>-</td>\n      <td>-</td>\n      <td>-</td>\n      <td>-</td>\n      <td>-</td>\n    </tr>\n    <tr>\n      <th>296</th>\n      <td>You Gotta Move</td>\n      <td>1969</td>\n      <td>1971</td>\n      <td>Sticky Fingers</td>\n      <td>Studio</td>\n      <td>Virgin</td>\n      <td>5.0</td>\n      <td>153</td>\n      <td>Fred McDowell/Gary Davis</td>\n      <td>Jagger</td>\n      <td>...</td>\n      <td>-</td>\n      <td>-</td>\n      <td>-</td>\n      <td>-</td>\n      <td>-</td>\n      <td>-</td>\n      <td>-</td>\n      <td>-</td>\n      <td>-</td>\n      <td>-</td>\n    </tr>\n  </tbody>\n</table>\n<p>297 rows × 35 columns</p>\n</div>"
     },
     "execution_count": 67,
     "metadata": {},
     "output_type": "execute_result"
    }
   ],
   "source": [
    "# Convert Duration to int\n",
    "\n",
    "# Define to_sec() function that converts a single string of the form 'mm:ss' to int\n",
    "\n",
    "def to_sec(time: str) -> int:\n",
    "    min, sec = time.split(':')\n",
    "    return int(min) * 60 + int(sec)\n",
    "\n",
    "# to_sec('2:30')\n",
    "\n",
    "# Use <pd.df>.<column>.apply(<function>) to convert the entire Duration column to int\n",
    "songs.Duration = songs.Duration.apply(to_sec)\n",
    "songs\n"
   ],
   "metadata": {
    "collapsed": false,
    "ExecuteTime": {
     "end_time": "2023-12-11T21:14:23.619603800Z",
     "start_time": "2023-12-11T21:14:23.487097100Z"
    }
   }
  },
  {
   "cell_type": "code",
   "execution_count": 69,
   "outputs": [
    {
     "data": {
      "text/plain": "               count        mean  max\nYear_released                        \n1965              30  158.866667  253\n1967              25  194.440000  308\n1964              18  173.944444  273\n1966              18  209.222222  695\n1972              18  223.888889  318\n2005              15  241.533333  310\n1994              15  247.533333  375\n1997              13  308.000000  477\n1989              12  240.500000  295\n2016              12  213.000000  313\n1986              11  217.727273  313\n1981              11  246.272727  392\n1974              10  286.500000  398\n1973              10  280.200000  354\n1983              10  269.900000  374\n1971              10  276.200000  436\n1978              10  253.400000  355\n1980              10  245.100000  339\n1969               9  291.000000  544\n1968               9  247.222222  467\n1976               6  319.500000  429\n1982               2  154.500000  201\n1977               2  364.000000  384\n1975               2  283.500000  299\n1991               2  276.500000  286\n1995               2  289.000000  338\n2004               2    0.000000    0\n1970               1  273.000000  273\n1998               1    0.000000    0\n2008               1  358.000000  358",
      "text/html": "<div>\n<style scoped>\n    .dataframe tbody tr th:only-of-type {\n        vertical-align: middle;\n    }\n\n    .dataframe tbody tr th {\n        vertical-align: top;\n    }\n\n    .dataframe thead th {\n        text-align: right;\n    }\n</style>\n<table border=\"1\" class=\"dataframe\">\n  <thead>\n    <tr style=\"text-align: right;\">\n      <th></th>\n      <th>count</th>\n      <th>mean</th>\n      <th>max</th>\n    </tr>\n    <tr>\n      <th>Year_released</th>\n      <th></th>\n      <th></th>\n      <th></th>\n    </tr>\n  </thead>\n  <tbody>\n    <tr>\n      <th>1965</th>\n      <td>30</td>\n      <td>158.866667</td>\n      <td>253</td>\n    </tr>\n    <tr>\n      <th>1967</th>\n      <td>25</td>\n      <td>194.440000</td>\n      <td>308</td>\n    </tr>\n    <tr>\n      <th>1964</th>\n      <td>18</td>\n      <td>173.944444</td>\n      <td>273</td>\n    </tr>\n    <tr>\n      <th>1966</th>\n      <td>18</td>\n      <td>209.222222</td>\n      <td>695</td>\n    </tr>\n    <tr>\n      <th>1972</th>\n      <td>18</td>\n      <td>223.888889</td>\n      <td>318</td>\n    </tr>\n    <tr>\n      <th>2005</th>\n      <td>15</td>\n      <td>241.533333</td>\n      <td>310</td>\n    </tr>\n    <tr>\n      <th>1994</th>\n      <td>15</td>\n      <td>247.533333</td>\n      <td>375</td>\n    </tr>\n    <tr>\n      <th>1997</th>\n      <td>13</td>\n      <td>308.000000</td>\n      <td>477</td>\n    </tr>\n    <tr>\n      <th>1989</th>\n      <td>12</td>\n      <td>240.500000</td>\n      <td>295</td>\n    </tr>\n    <tr>\n      <th>2016</th>\n      <td>12</td>\n      <td>213.000000</td>\n      <td>313</td>\n    </tr>\n    <tr>\n      <th>1986</th>\n      <td>11</td>\n      <td>217.727273</td>\n      <td>313</td>\n    </tr>\n    <tr>\n      <th>1981</th>\n      <td>11</td>\n      <td>246.272727</td>\n      <td>392</td>\n    </tr>\n    <tr>\n      <th>1974</th>\n      <td>10</td>\n      <td>286.500000</td>\n      <td>398</td>\n    </tr>\n    <tr>\n      <th>1973</th>\n      <td>10</td>\n      <td>280.200000</td>\n      <td>354</td>\n    </tr>\n    <tr>\n      <th>1983</th>\n      <td>10</td>\n      <td>269.900000</td>\n      <td>374</td>\n    </tr>\n    <tr>\n      <th>1971</th>\n      <td>10</td>\n      <td>276.200000</td>\n      <td>436</td>\n    </tr>\n    <tr>\n      <th>1978</th>\n      <td>10</td>\n      <td>253.400000</td>\n      <td>355</td>\n    </tr>\n    <tr>\n      <th>1980</th>\n      <td>10</td>\n      <td>245.100000</td>\n      <td>339</td>\n    </tr>\n    <tr>\n      <th>1969</th>\n      <td>9</td>\n      <td>291.000000</td>\n      <td>544</td>\n    </tr>\n    <tr>\n      <th>1968</th>\n      <td>9</td>\n      <td>247.222222</td>\n      <td>467</td>\n    </tr>\n    <tr>\n      <th>1976</th>\n      <td>6</td>\n      <td>319.500000</td>\n      <td>429</td>\n    </tr>\n    <tr>\n      <th>1982</th>\n      <td>2</td>\n      <td>154.500000</td>\n      <td>201</td>\n    </tr>\n    <tr>\n      <th>1977</th>\n      <td>2</td>\n      <td>364.000000</td>\n      <td>384</td>\n    </tr>\n    <tr>\n      <th>1975</th>\n      <td>2</td>\n      <td>283.500000</td>\n      <td>299</td>\n    </tr>\n    <tr>\n      <th>1991</th>\n      <td>2</td>\n      <td>276.500000</td>\n      <td>286</td>\n    </tr>\n    <tr>\n      <th>1995</th>\n      <td>2</td>\n      <td>289.000000</td>\n      <td>338</td>\n    </tr>\n    <tr>\n      <th>2004</th>\n      <td>2</td>\n      <td>0.000000</td>\n      <td>0</td>\n    </tr>\n    <tr>\n      <th>1970</th>\n      <td>1</td>\n      <td>273.000000</td>\n      <td>273</td>\n    </tr>\n    <tr>\n      <th>1998</th>\n      <td>1</td>\n      <td>0.000000</td>\n      <td>0</td>\n    </tr>\n    <tr>\n      <th>2008</th>\n      <td>1</td>\n      <td>358.000000</td>\n      <td>358</td>\n    </tr>\n  </tbody>\n</table>\n</div>"
     },
     "execution_count": 69,
     "metadata": {},
     "output_type": "execute_result"
    }
   ],
   "source": [
    "# Make the groupings and aggregations\n",
    "\n",
    "# <pd.df>.groupby('<column>').<another column>.<f()>.sort_values(ascending=False)\n",
    "songs.groupby('Year_released').Duration.max().sort_values(ascending=False)\n",
    "\n",
    "# <pd.df>.groupby('<column>').<another column>.agg(['<f1 name>', '<f2 name>', ...]).sort_values(by='<f name>', ascending=False)\n",
    "songs.groupby('Year_released').Duration.agg(['count', 'mean', 'max']).sort_values(by='count', ascending=False)\n"
   ],
   "metadata": {
    "collapsed": false,
    "ExecuteTime": {
     "end_time": "2023-12-11T21:20:07.965073600Z",
     "start_time": "2023-12-11T21:20:07.849236300Z"
    }
   }
  },
  {
   "cell_type": "markdown",
   "source": [
    "## Data visualization\n",
    "Plot some scatterplots, line plots, bar graphs, histograms, scatterplots, box plots, violins, heatmaps,...\n",
    "[Example](https://www.analyticsvidhya.com/blog/2021/08/how-to-perform-exploratory-data-analysis-a-guide-for-beginners/)\n",
    "\n",
    "[Matplotlib examples](https://matplotlib.org/stable/gallery/index.html)\n",
    "[Seaborn examples](https://seaborn.pydata.org/examples/index.html) (see also [The Python Graph Gallery](https://www.python-graph-gallery.com/); it has a very neat user interface!)\n",
    "[Plotnine examples](https://plotnine.readthedocs.io/en/stable/api.html) (click on any element for its API and examples)\n",
    "\n",
    "<u>**Note that it is also possible to**</u> <u>**[plot lines, bargraphs,... with Pandas only](https://pandas.pydata.org/docs/reference/api/pandas.DataFrame.plot.line.html)**</u> (although in such cases Pandas interacts with Matplotlib under the surface)."
   ],
   "metadata": {
    "collapsed": false
   }
  },
  {
   "cell_type": "markdown",
   "source": [
    "##### Scatterplot"
   ],
   "metadata": {
    "collapsed": false
   }
  },
  {
   "cell_type": "markdown",
   "source": [
    "Read a slightly different dataset.\n",
    "\n",
    "`pd.read_csv()` returns a `pd.DataFrame` object.\n",
    "\n",
    "As for specifying the path of the dataset properly, see [this](https://stackoverflow.com/questions/35384358/how-to-open-my-files-in-data-folder-with-pandas-using-relative-path) (more specifically, **both** [this](https://stackoverflow.com/a/35384414/1899061) and [this](https://stackoverflow.com/a/43600253/1899061))."
   ],
   "metadata": {
    "collapsed": false
   }
  },
  {
   "cell_type": "code",
   "execution_count": 70,
   "outputs": [],
   "source": [
    "# Get the songs as a pd.DataFrame object from 'data/stones_analysis.csv', \n",
    "# or from '../data/stones_analysis.csv.csv', or '../../data/stones_analysis.csv.csv', or ...,\n",
    "# depending on where the csv file is located\n",
    "songs = pd.read_csv('../data/stones_analysis.csv')"
   ],
   "metadata": {
    "collapsed": false,
    "ExecuteTime": {
     "end_time": "2023-12-11T21:22:41.496668100Z",
     "start_time": "2023-12-11T21:22:41.371811800Z"
    }
   }
  },
  {
   "cell_type": "markdown",
   "source": [
    "Check for missing values (use, e.g., `sb.heatmap(<pd.df>.isna(), cbar=False, cmap='viridis')`)."
   ],
   "metadata": {
    "collapsed": false
   }
  },
  {
   "cell_type": "code",
   "execution_count": 73,
   "outputs": [
    {
     "data": {
      "text/plain": "Title               0\nYear_recorded       0\nYear_released       0\nAlbum               0\nRecord_label        0\nAlbum_type          0\nTrack_number        0\nDuration            0\nSongwriter          0\nLead_vocal          0\nacousticness        0\ndanceability        0\nenergy              0\ninstrumentalness    0\nliveness            0\nloudness            0\nspeechiness         0\ntempo               0\nvalence             0\nBritish_charts      0\nDate                0\nUK_peak_pos         0\nWoC                 0\nUS_cash             0\nUS_rec_world        0\nAUS                 0\nUS                  0\nGER                 0\nNLD                 0\nFRA                 0\nSWI                 0\nCAN                 0\nPOL                 0\nCertification       0\ndtype: int64"
     },
     "execution_count": 73,
     "metadata": {},
     "output_type": "execute_result"
    }
   ],
   "source": [
    "songs.isna().sum()"
   ],
   "metadata": {
    "collapsed": false,
    "ExecuteTime": {
     "end_time": "2023-12-11T21:23:12.154904100Z",
     "start_time": "2023-12-11T21:23:12.033571200Z"
    }
   }
  },
  {
   "cell_type": "markdown",
   "source": [
    "Scatterplot the relationship between `Duration` and `danceability`."
   ],
   "metadata": {
    "collapsed": false
   }
  },
  {
   "cell_type": "markdown",
   "source": [
    "To set the ranges of values on x-axis and y-axis (`Duration`, `danceability`), check the max values or run `describe()`."
   ],
   "metadata": {
    "collapsed": false
   }
  },
  {
   "cell_type": "code",
   "execution_count": 74,
   "outputs": [
    {
     "data": {
      "text/plain": "       Year_recorded  Year_released  Track_number    Duration  acousticness  \\\ncount     297.000000     297.000000    297.000000  297.000000    297.000000   \nmean     1978.117845    1978.811448      6.723906  234.585859      0.265599   \nstd        14.226554      14.266461      3.864845   78.341898      0.241577   \nmin      1963.000000    1964.000000      1.000000   28.000000      0.000058   \n25%      1966.000000    1967.000000      4.000000  185.000000      0.065300   \n50%      1973.000000    1974.000000      6.000000  226.000000      0.187000   \n75%      1989.000000    1989.000000      9.000000  273.000000      0.441000   \nmax      2015.000000    2016.000000     20.000000  695.000000      0.994000   \n\n       danceability      energy  instrumentalness    liveness    loudness  \\\ncount    297.000000  297.000000        297.000000  297.000000  297.000000   \nmean       0.522416    0.734843          0.135566    0.258404   -7.078766   \nstd        0.122905    0.187249          0.250240    0.197373    3.122111   \nmin        0.230000    0.129000          0.000000    0.024500  -24.466000   \n25%        0.432000    0.589000          0.000246    0.113000   -9.278000   \n50%        0.522416    0.769000          0.006910    0.204500   -6.493000   \n75%        0.607000    0.905000          0.106000    0.341000   -4.568000   \nmax        0.835000    0.997000          0.977000    0.978000   -1.426000   \n\n       speechiness       tempo     valence  \ncount   297.000000  297.000000  297.000000  \nmean      0.054398  123.946734    0.640086  \nstd       0.035921   29.314429    0.213321  \nmin       0.023200   57.772000    0.042700  \n25%       0.033800  105.219000    0.522000  \n50%       0.042900  118.944000    0.668000  \n75%       0.058800  140.398000    0.811000  \nmax       0.306000  217.578000    0.973000  ",
      "text/html": "<div>\n<style scoped>\n    .dataframe tbody tr th:only-of-type {\n        vertical-align: middle;\n    }\n\n    .dataframe tbody tr th {\n        vertical-align: top;\n    }\n\n    .dataframe thead th {\n        text-align: right;\n    }\n</style>\n<table border=\"1\" class=\"dataframe\">\n  <thead>\n    <tr style=\"text-align: right;\">\n      <th></th>\n      <th>Year_recorded</th>\n      <th>Year_released</th>\n      <th>Track_number</th>\n      <th>Duration</th>\n      <th>acousticness</th>\n      <th>danceability</th>\n      <th>energy</th>\n      <th>instrumentalness</th>\n      <th>liveness</th>\n      <th>loudness</th>\n      <th>speechiness</th>\n      <th>tempo</th>\n      <th>valence</th>\n    </tr>\n  </thead>\n  <tbody>\n    <tr>\n      <th>count</th>\n      <td>297.000000</td>\n      <td>297.000000</td>\n      <td>297.000000</td>\n      <td>297.000000</td>\n      <td>297.000000</td>\n      <td>297.000000</td>\n      <td>297.000000</td>\n      <td>297.000000</td>\n      <td>297.000000</td>\n      <td>297.000000</td>\n      <td>297.000000</td>\n      <td>297.000000</td>\n      <td>297.000000</td>\n    </tr>\n    <tr>\n      <th>mean</th>\n      <td>1978.117845</td>\n      <td>1978.811448</td>\n      <td>6.723906</td>\n      <td>234.585859</td>\n      <td>0.265599</td>\n      <td>0.522416</td>\n      <td>0.734843</td>\n      <td>0.135566</td>\n      <td>0.258404</td>\n      <td>-7.078766</td>\n      <td>0.054398</td>\n      <td>123.946734</td>\n      <td>0.640086</td>\n    </tr>\n    <tr>\n      <th>std</th>\n      <td>14.226554</td>\n      <td>14.266461</td>\n      <td>3.864845</td>\n      <td>78.341898</td>\n      <td>0.241577</td>\n      <td>0.122905</td>\n      <td>0.187249</td>\n      <td>0.250240</td>\n      <td>0.197373</td>\n      <td>3.122111</td>\n      <td>0.035921</td>\n      <td>29.314429</td>\n      <td>0.213321</td>\n    </tr>\n    <tr>\n      <th>min</th>\n      <td>1963.000000</td>\n      <td>1964.000000</td>\n      <td>1.000000</td>\n      <td>28.000000</td>\n      <td>0.000058</td>\n      <td>0.230000</td>\n      <td>0.129000</td>\n      <td>0.000000</td>\n      <td>0.024500</td>\n      <td>-24.466000</td>\n      <td>0.023200</td>\n      <td>57.772000</td>\n      <td>0.042700</td>\n    </tr>\n    <tr>\n      <th>25%</th>\n      <td>1966.000000</td>\n      <td>1967.000000</td>\n      <td>4.000000</td>\n      <td>185.000000</td>\n      <td>0.065300</td>\n      <td>0.432000</td>\n      <td>0.589000</td>\n      <td>0.000246</td>\n      <td>0.113000</td>\n      <td>-9.278000</td>\n      <td>0.033800</td>\n      <td>105.219000</td>\n      <td>0.522000</td>\n    </tr>\n    <tr>\n      <th>50%</th>\n      <td>1973.000000</td>\n      <td>1974.000000</td>\n      <td>6.000000</td>\n      <td>226.000000</td>\n      <td>0.187000</td>\n      <td>0.522416</td>\n      <td>0.769000</td>\n      <td>0.006910</td>\n      <td>0.204500</td>\n      <td>-6.493000</td>\n      <td>0.042900</td>\n      <td>118.944000</td>\n      <td>0.668000</td>\n    </tr>\n    <tr>\n      <th>75%</th>\n      <td>1989.000000</td>\n      <td>1989.000000</td>\n      <td>9.000000</td>\n      <td>273.000000</td>\n      <td>0.441000</td>\n      <td>0.607000</td>\n      <td>0.905000</td>\n      <td>0.106000</td>\n      <td>0.341000</td>\n      <td>-4.568000</td>\n      <td>0.058800</td>\n      <td>140.398000</td>\n      <td>0.811000</td>\n    </tr>\n    <tr>\n      <th>max</th>\n      <td>2015.000000</td>\n      <td>2016.000000</td>\n      <td>20.000000</td>\n      <td>695.000000</td>\n      <td>0.994000</td>\n      <td>0.835000</td>\n      <td>0.997000</td>\n      <td>0.977000</td>\n      <td>0.978000</td>\n      <td>-1.426000</td>\n      <td>0.306000</td>\n      <td>217.578000</td>\n      <td>0.973000</td>\n    </tr>\n  </tbody>\n</table>\n</div>"
     },
     "execution_count": 74,
     "metadata": {},
     "output_type": "execute_result"
    }
   ],
   "source": [
    "songs.describe()"
   ],
   "metadata": {
    "collapsed": false,
    "ExecuteTime": {
     "end_time": "2023-12-11T21:23:32.926228800Z",
     "start_time": "2023-12-11T21:23:32.793631100Z"
    }
   }
  },
  {
   "cell_type": "markdown",
   "source": [
    "###### 1. Matplotlib version"
   ],
   "metadata": {
    "collapsed": false
   }
  },
  {
   "cell_type": "markdown",
   "source": [
    "[Matplotlib scatterplot example](https://matplotlib.org/stable/gallery/shapes_and_collections/scatter.html)\n",
    "\n",
    "Use the following syntax:\n",
    "`ax = plt.axes()`\n",
    "`ax.set(xlim=(<from>, <to>), ylim=(<from>, <to>), xlabel='<xlabel>', ylabel='<ylabel>', title='<title>')`\n",
    "`ax.scatter(<pd.df>['<X>'], <pd.df>['<Y>'], marker='<marker type>', c='<fill color>', edgecolors='<edgecolor>', s=<marker size>)`; \n",
    "the `<pd.df>['<X>']` and `<pd.df>['<Y>']` arguments can be also specified as `<pd.df>.<X>` and `<pd.df>.<Y>` if `<X>` and `<Y>` are single words.\n",
    "The color parameter (`c`) is optional; if present, it should be a scalar or a sequence of length consistent with the lengths of `<X>` and `<Y>` (`(<X>, <Y>)` points). The `marker` parameter is optional as well. Both `c` and `marker` have defaults. For other values of `c` and `marker`, see [this](https://matplotlib.org/stable/gallery/color/named_colors.html#css-colors) and [this](https://matplotlib.org/stable/api/_as_gen/matplotlib.markers.MarkerStyle.html#matplotlib.markers.MarkerStyle.markers), respectively. A good value for `s` is 30-40 for 200-300 markers on the plot.\n",
    "\n",
    "Alternatively:\n",
    "`ax.plot(<pd.df>['<X>'], <pd.df>['<Y>'], marker='<marker type>', color='<color>', linestyle='');`\n",
    "The `linestyle=''` parameter is essential for plotting the dots only - omitting it means that the connecting lines are plotted as well."
   ],
   "metadata": {
    "collapsed": false
   }
  },
  {
   "cell_type": "code",
   "execution_count": 79,
   "outputs": [
    {
     "data": {
      "text/plain": "<Figure size 640x480 with 1 Axes>",
      "image/png": "[encoded data removed]"
     },
     "metadata": {},
     "output_type": "display_data"
    }
   ],
   "source": [
    "ax = plt.axes()\n",
    "ax.set(xlim=(0, 710), ylim=(0, 1), xlabel='Duration', ylabel='Danceability', title='Danceability = f(Duration)')\n",
    "ax.scatter(songs.Duration, songs.danceability, c='limegreen', edgecolors='green', s=30);\n",
    "# ax"
   ],
   "metadata": {
    "collapsed": false,
    "ExecuteTime": {
     "end_time": "2023-12-11T21:27:51.037657100Z",
     "start_time": "2023-12-11T21:27:50.832213200Z"
    }
   }
  },
  {
   "cell_type": "markdown",
   "source": [
    "###### 2. Plotnine version\n",
    "[Plotnine scatterplot example](https://plotnine.readthedocs.io/en/stable/generated/plotnine.geoms.geom_point.html#plotnine.geoms.geom_point)\n",
    "\n",
    "In *Plotnine*, the syntax for setting the ranges on x and y axes is `xlim(<from>, <to>)`, `ylim(<from>, <to>)` (as two separate lines in calling `ggplot()`), or, alternatively, `coord_cartesian(xlim=(<from>, <to>), ylim=(<from>, <to>))` as a single separate line."
   ],
   "metadata": {
    "collapsed": false
   }
  },
  {
   "cell_type": "markdown",
   "source": [
    "If `<x>` and `<y>` values are not columns of a dataframe already (`<X>` and `<Y>`), create a minimal dataframe to support plotting (`<df> = pd.DataFrame({'<X>': <x>, '<Y>': <y>})`)."
   ],
   "metadata": {
    "collapsed": false
   }
  },
  {
   "cell_type": "code",
   "execution_count": null,
   "outputs": [],
   "source": [],
   "metadata": {
    "collapsed": false
   }
  },
  {
   "cell_type": "markdown",
   "source": [
    "Use `ggplot` as:\n",
    "\n",
    "`(`\n",
    "&emsp;&emsp;`ggplot(<df>, aes(x='<X>', y='<Y>) +`\n",
    "&emsp;&emsp;`geom_point(color='<color>', fill='<fill color>', shape='<shape>', size=<size>) +`\n",
    "&emsp;&emsp;`coord_cartesian(xlim=(<from>, <to>), ylim=(<from>, <to>)) +`\n",
    "&emsp;&emsp;`theme(figure_size=(10, 7), dpi=60) +`\n",
    "&emsp;&emsp;`labs(x='...', y='...', title='...')`\n",
    "`).draw()`\n",
    "\n",
    "The `color`, `fill` and `shape` parameters have defaults. The other values of these parameters are the same as in Matplotlib (see [this](https://matplotlib.org/stable/gallery/color/named_colors.html) and [this](https://matplotlib.org/stable/api/_as_gen/matplotlib.markers.MarkerStyle.html#matplotlib.markers.MarkerStyle), respectively).\n",
    "\n",
    "In `theme(figure_size=(10, 7), dpi=60)`, the `dpi` parameter is necessary to achieve full control over the plot size (`figure_size` is not enough). It is a good idea to experiment with the actual values for `figure_size`and `dpi`. \n",
    "\n",
    "**Note 1:** `aes(x='<X>', y='<Y>)` shows compiler errors but works anyway; `aes('<X>', '<Y>)` does not show any compiler error. However, `labs(x='...', y='...', title='...')` shows compiler errors regardless of `x=...`, `y=...`, ..., but works only *with* `x=...`, `y=...`. To eliminate these compiler errors, use `xlab('...')`, `ylab('...')` and `ggtitle('...')` as separate lines after calling `ggplot()`. \n",
    "\n",
    "**Note 2:** Once the figure size is changed for plotnine graphs by calling `theme(figure_size=(10, 7), dpi=60)` or similar, the Matplotlib graphs use the new figure size as well and how to control it is a mystery. "
   ],
   "metadata": {
    "collapsed": false
   }
  },
  {
   "cell_type": "code",
   "execution_count": 85,
   "outputs": [
    {
     "data": {
      "text/plain": "<Figure size 400x300 with 1 Axes>",
      "image/png": "[encoded data removed]"
     },
     "execution_count": 85,
     "metadata": {
      "image/png": {
       "width": 400,
       "height": 300
      }
     },
     "output_type": "execute_result"
    }
   ],
   "source": [
    "(\n",
    "    ggplot(songs, aes('Duration', 'danceability')) + \n",
    "    geom_point(color='green', fill='limegreen') + \n",
    "    ggtitle('Danceability = f(Duration)') + \n",
    "    theme(figure_size=(4, 3))\n",
    ").draw()"
   ],
   "metadata": {
    "collapsed": false,
    "ExecuteTime": {
     "end_time": "2023-12-11T21:31:06.815496100Z",
     "start_time": "2023-12-11T21:31:06.580934300Z"
    }
   }
  },
  {
   "cell_type": "markdown",
   "source": [
    "###### 3. A brief analysis of the plot: What are the shortest/longest songs and their durations?"
   ],
   "metadata": {
    "collapsed": false
   }
  },
  {
   "cell_type": "code",
   "execution_count": 87,
   "outputs": [
    {
     "data": {
      "text/plain": "                       Title  danceability\n22           Beast Of Burden         0.786\n40            Cherry Oh Baby         0.835\n55             Dance (Pt. 1)         0.748\n73              Feel On Baby         0.720\n93            Harlem Shuffle         0.750\n103               Hitch Hike         0.747\n108                Hot Stuff         0.788\n125              Indian Girl         0.735\n139     Laugh, I Nearly Died         0.723\n150       Little Red Rooster         0.732\n164             Mercy, Mercy         0.711\n168                 Miss You         0.797\n182            Not Fade Away         0.754\n189           Out Of Control         0.742\n212            Send It To Me         0.768\n215                Shattered         0.737\n220            She's So Cold         0.756\n225  The Singer Not The Song         0.718\n235   The Spider And The Fly         0.737\n244       Surprise, Surprise         0.750\n248            Sweet Neo Con         0.720\n274           Under My Thumb         0.733",
      "text/html": "<div>\n<style scoped>\n    .dataframe tbody tr th:only-of-type {\n        vertical-align: middle;\n    }\n\n    .dataframe tbody tr th {\n        vertical-align: top;\n    }\n\n    .dataframe thead th {\n        text-align: right;\n    }\n</style>\n<table border=\"1\" class=\"dataframe\">\n  <thead>\n    <tr style=\"text-align: right;\">\n      <th></th>\n      <th>Title</th>\n      <th>danceability</th>\n    </tr>\n  </thead>\n  <tbody>\n    <tr>\n      <th>22</th>\n      <td>Beast Of Burden</td>\n      <td>0.786</td>\n    </tr>\n    <tr>\n      <th>40</th>\n      <td>Cherry Oh Baby</td>\n      <td>0.835</td>\n    </tr>\n    <tr>\n      <th>55</th>\n      <td>Dance (Pt. 1)</td>\n      <td>0.748</td>\n    </tr>\n    <tr>\n      <th>73</th>\n      <td>Feel On Baby</td>\n      <td>0.720</td>\n    </tr>\n    <tr>\n      <th>93</th>\n      <td>Harlem Shuffle</td>\n      <td>0.750</td>\n    </tr>\n    <tr>\n      <th>103</th>\n      <td>Hitch Hike</td>\n      <td>0.747</td>\n    </tr>\n    <tr>\n      <th>108</th>\n      <td>Hot Stuff</td>\n      <td>0.788</td>\n    </tr>\n    <tr>\n      <th>125</th>\n      <td>Indian Girl</td>\n      <td>0.735</td>\n    </tr>\n    <tr>\n      <th>139</th>\n      <td>Laugh, I Nearly Died</td>\n      <td>0.723</td>\n    </tr>\n    <tr>\n      <th>150</th>\n      <td>Little Red Rooster</td>\n      <td>0.732</td>\n    </tr>\n    <tr>\n      <th>164</th>\n      <td>Mercy, Mercy</td>\n      <td>0.711</td>\n    </tr>\n    <tr>\n      <th>168</th>\n      <td>Miss You</td>\n      <td>0.797</td>\n    </tr>\n    <tr>\n      <th>182</th>\n      <td>Not Fade Away</td>\n      <td>0.754</td>\n    </tr>\n    <tr>\n      <th>189</th>\n      <td>Out Of Control</td>\n      <td>0.742</td>\n    </tr>\n    <tr>\n      <th>212</th>\n      <td>Send It To Me</td>\n      <td>0.768</td>\n    </tr>\n    <tr>\n      <th>215</th>\n      <td>Shattered</td>\n      <td>0.737</td>\n    </tr>\n    <tr>\n      <th>220</th>\n      <td>She's So Cold</td>\n      <td>0.756</td>\n    </tr>\n    <tr>\n      <th>225</th>\n      <td>The Singer Not The Song</td>\n      <td>0.718</td>\n    </tr>\n    <tr>\n      <th>235</th>\n      <td>The Spider And The Fly</td>\n      <td>0.737</td>\n    </tr>\n    <tr>\n      <th>244</th>\n      <td>Surprise, Surprise</td>\n      <td>0.750</td>\n    </tr>\n    <tr>\n      <th>248</th>\n      <td>Sweet Neo Con</td>\n      <td>0.720</td>\n    </tr>\n    <tr>\n      <th>274</th>\n      <td>Under My Thumb</td>\n      <td>0.733</td>\n    </tr>\n  </tbody>\n</table>\n</div>"
     },
     "execution_count": 87,
     "metadata": {},
     "output_type": "execute_result"
    }
   ],
   "source": [
    "# display(<pd.df>['column'] <= <value>)                                    # Boolean mask\n",
    "# display(type(<pd.df>['column'] <= <value>))                              # pd.Series\n",
    "# display(<pd.df>[<pd.df>['column'] <= <value>]['column to to display'])   # select one column\n",
    "# display(<pd.df>[<pd.df>['column'] <= <value>]['column 1  to to display', 'column 2 to display',...])   # select multiple columns\n",
    "songs.loc[songs.Duration > 500, ['Title', 'Duration']]\n",
    "songs.loc[songs.danceability > 0.7, ['Title', 'danceability']]\n",
    "# Try this also with .loc[], as well as with .iloc[], with an explicitly set index and with .index\n"
   ],
   "metadata": {
    "collapsed": false,
    "ExecuteTime": {
     "end_time": "2023-12-11T21:32:39.746370Z",
     "start_time": "2023-12-11T21:32:39.589370Z"
    }
   }
  },
  {
   "cell_type": "markdown",
   "source": [
    "##### Line plot"
   ],
   "metadata": {
    "collapsed": false
   }
  },
  {
   "cell_type": "markdown",
   "source": [
    "How many songs from each year are there?"
   ],
   "metadata": {
    "collapsed": false
   }
  },
  {
   "cell_type": "code",
   "execution_count": 1,
   "outputs": [],
   "source": [
    "# Use <pd.df>['<column>'].value_counts(), <pd.df>['<column>'].value_counts()[<specific value> in <column>]\n"
   ],
   "metadata": {
    "collapsed": false,
    "ExecuteTime": {
     "end_time": "2023-12-12T22:52:03.605777300Z",
     "start_time": "2023-12-12T22:52:03.604272400Z"
    }
   }
  },
  {
   "cell_type": "markdown",
   "source": [
    "Sort this result by index: `pd.Series.sort_index()` (there is also `pd.DataFrame.sort_index()`)."
   ],
   "metadata": {
    "collapsed": false
   }
  },
  {
   "cell_type": "code",
   "execution_count": 2,
   "outputs": [],
   "source": [
    "# Define val_counts_sorted_by_index\n"
   ],
   "metadata": {
    "collapsed": false,
    "ExecuteTime": {
     "end_time": "2023-12-12T22:52:18.010049600Z",
     "start_time": "2023-12-12T22:52:17.898316500Z"
    }
   }
  },
  {
   "cell_type": "markdown",
   "source": [
    "Preparation for plotting (`counts` on y-axis, `year` on x-axis): get the `np.ndarray` version of `val_counts_sorted_by_index`, as well as of its index.\n",
    "\n",
    "One way of doing it is to use `np.array()` over `val_counts_sorted_by_index.index` and `val_counts_sorted_by_index.values`. However, the same effect is achieved using only `val_counts_sorted_by_index.index` and `val_counts_sorted_by_index.values` (their type is `np.ndarray`)."
   ],
   "metadata": {
    "collapsed": false
   }
  },
  {
   "cell_type": "code",
   "execution_count": 2,
   "outputs": [],
   "source": [],
   "metadata": {
    "collapsed": false,
    "ExecuteTime": {
     "end_time": "2023-12-12T22:52:24.727934800Z",
     "start_time": "2023-12-12T22:52:24.622829300Z"
    }
   }
  },
  {
   "cell_type": "markdown",
   "source": [
    "And now plot it."
   ],
   "metadata": {
    "collapsed": false
   }
  },
  {
   "cell_type": "markdown",
   "source": [
    "###### 1. Matplotlib version\n",
    "[Matplotlib line plot example](https://matplotlib.org/stable/gallery/lines_bars_and_markers/simple_plot.html)\n",
    "\n",
    "`ax = plt.axes()`\n",
    "`ax.set(xlim=(<lower limit>, <upper limit>), ylim=(<lower limit>, <upper limit>), xlabel='...', ylabel='...', title='...')`\n",
    "`ax.ticklabel_format(useOffset=False)`\n",
    "`ax.plot(<x>, <y>, color='...', marker='<marker type>', linewidth=<number>, alpha=<number>)`\n",
    "\n",
    "To prevent numbers displayed in scientific notation (exponential) on axes ticks, make sure to use `ax.ticklabel_format(useOffset=False)`.\n",
    "\n",
    "Do not use `x=<x>, y=<y>` in `ax.plot()`, it generates an error. Use just `<x>, <y>`. For the other parameters, the keywords are necessary.\n",
    "\n",
    "Examples of parameters in `ax.plot()`: `color='steelblue'`, `linewidth=3`, `alpha=0.8` (alpha: transparency (0-1))."
   ],
   "metadata": {
    "collapsed": false
   }
  },
  {
   "cell_type": "code",
   "execution_count": 2,
   "outputs": [],
   "source": [],
   "metadata": {
    "collapsed": false,
    "ExecuteTime": {
     "end_time": "2023-12-12T22:52:35.075610200Z",
     "start_time": "2023-12-12T22:52:34.951632400Z"
    }
   }
  },
  {
   "cell_type": "markdown",
   "source": [
    "###### 2. Plotnine version\n",
    "[Plotnine line plot example](https://plotnine.readthedocs.io/en/stable/generated/plotnine.geoms.geom_line.html#plotnine.geoms.geom_line)\n",
    "[Excellent tutorial on plotnine](https://realpython.com/ggplot-python/)"
   ],
   "metadata": {
    "collapsed": false
   }
  },
  {
   "cell_type": "markdown",
   "source": [
    "For some reasons, running the Matplotlib version immediately before running the Plotnine version sometimes resets all values in `year` to 1970 (!!!), so re-creating `year` here might be necessary."
   ],
   "metadata": {
    "collapsed": false
   }
  },
  {
   "cell_type": "code",
   "execution_count": null,
   "outputs": [],
   "source": [
    "# year = np.array(val_counts_sorted_by_index.index)\n",
    "# display(year)\n"
   ],
   "metadata": {
    "collapsed": false
   }
  },
  {
   "cell_type": "markdown",
   "source": [
    "If `<x>` and `<y>` values are not in a dataframe columns (`<X>` and `<Y>`) already, create a minimal dataframe to support plotting (`<df> = pd.DataFrame({'<X>': <x>, '<Y>': <y>})`)."
   ],
   "metadata": {
    "collapsed": false
   }
  },
  {
   "cell_type": "code",
   "execution_count": 2,
   "outputs": [],
   "source": [],
   "metadata": {
    "collapsed": false,
    "ExecuteTime": {
     "end_time": "2023-12-12T22:52:45.677969200Z",
     "start_time": "2023-12-12T22:52:45.487384400Z"
    }
   }
  },
  {
   "cell_type": "markdown",
   "source": [
    "Use `ggplot` as:\n",
    "\n",
    "`(`\n",
    "&emsp;&emsp;`ggplot(<df>, aes(<x> = '<X>', <y> = '<Y>) +`\n",
    "&emsp;&emsp;`geom_line(color='<color>', size=<size>, alpha=<transparency, 0-1>, linetype='<linetype>') +`\n",
    "&emsp;&emsp;`labs(x='...', y='...')`\n",
    "`).draw()`\n",
    "\n",
    "Examples of parameters in `geom_line()`: `color='steelblue'`, `size=1`, `linetype='solid'`, `alpha=0.8` (alpha: transparency (0-1)).\n"
   ],
   "metadata": {
    "collapsed": false
   }
  },
  {
   "cell_type": "code",
   "execution_count": 2,
   "outputs": [],
   "source": [],
   "metadata": {
    "collapsed": false,
    "ExecuteTime": {
     "end_time": "2023-12-12T22:52:52.716942Z",
     "start_time": "2023-12-12T22:52:52.557834700Z"
    }
   }
  },
  {
   "cell_type": "markdown",
   "source": [
    "###### 3. Smoothen the curves\n",
    "Based on [this](https://stackoverflow.com/a/5284038/1899061).\n",
    "`from scipy.interpolate import make_interp_spline, BSpline`\n",
    "\n",
    "`<x> = <definition of x-axis variable>`\n",
    "`<y> = <definition of y-axis variable>`\n",
    "\n",
    "`<x_smooth> = np.linspace(<x>.min(), <x>max(), 300)`&emsp;&emsp;&emsp;&emsp;# 300: the number of points to make between `<x>.min() and <x>.max()`\n",
    "`spl = make_interp_spline(year, counts, k=3)`&emsp;&emsp;&emsp;&emsp;&emsp;&emsp;&emsp; # type: BSpline\n",
    "`<y_smooth> = spl(<x>_smooth)`\n",
    "\n",
    "`plt.xlim([<lowest value of x to show on the plot>, <highest value of x to show on the plot>])`\n",
    "`plt.ylim([<lowest value of y to show on the plot>, <highest value of x to show on the plot>])`\n",
    "\n",
    "`plt.plot(<x_smooth>, <y_smooth>)`\n",
    "`plt.plot(<x>, <y>)`&emsp;&emsp;&emsp;&emsp;&emsp;&emsp;&emsp;&emsp;&emsp;&emsp;&emsp;&emsp;&emsp;&emsp;&emsp;&emsp;&emsp;&emsp;&emsp;# optional: show the segmented line on the same plot as well\n",
    "`plt.show()`\n",
    "\n"
   ],
   "metadata": {
    "collapsed": false
   }
  },
  {
   "cell_type": "code",
   "execution_count": null,
   "outputs": [],
   "source": [
    "# # 300 represents the number of points to make between T.min and T.max\n",
    "# T = np.array([6, 7, 8, 9, 10, 11, 12])\n",
    "# power = np.array([1.53E+03, 5.92E+02, 2.04E+02, 7.24E+01, 2.72E+01, 1.10E+01, 4.70E+00])\n",
    "#\n",
    "# # plt.plot(T,power)\n",
    "# # plt.show()\n",
    "#\n",
    "# xnew = np.linspace(T.min(), T.max(), 300)\n",
    "#\n",
    "# spl = make_interp_spline(T, power, k=3)  # type: BSpline\n",
    "# power_smooth = spl(xnew)\n",
    "#\n",
    "# plt.plot(xnew, power_smooth)\n",
    "# plt.show()\n",
    "\n",
    "# from scipy.interpolate import make_interp_spline, BSpline\n",
    "#\n",
    "# year_smooth = np.linspace(year.min(), year.max(), 300)\n",
    "# spl = make_interp_spline(year, counts, k=3)  # type: BSpline\n",
    "# counts_smooth = spl(year_smooth)\n",
    "#\n",
    "# plt.ticklabel_format(useOffset=False)\n",
    "# \n",
    "# plt.xlim([1963, 2023])\n",
    "# plt.ylim([0, 40])\n",
    "#\n",
    "# plt.plot(year_smooth, counts_smooth)\n",
    "# plt.plot(year, counts)\n",
    "# plt.show()\n",
    "#\n",
    "# # Alternatively\n",
    "# ax = plt.axes()\n",
    "# ax.set(xlim=(years.min(), years.max()), ylim=(0, 70), xlabel='year', ylabel='count', title='Song counts over years')\n",
    "# ax.plot(years, counts, color='steelblue', linewidth=2, marker='o', alpha=0.8)\n",
    "# ax.plot(year_smooth, counts_smooth, color='steelblue', linewidth=3, alpha=0.8);"
   ],
   "metadata": {
    "collapsed": false
   }
  },
  {
   "cell_type": "markdown",
   "source": [
    "###### 4. Multiple subplots\n",
    "(shown here after [this](https://jakevdp.github.io/PythonDataScienceHandbook/04.08-multiple-subplots.html))"
   ],
   "metadata": {
    "collapsed": false
   }
  },
  {
   "cell_type": "code",
   "execution_count": null,
   "outputs": [],
   "source": [
    "# # From https://jakevdp.github.io/PythonDataScienceHandbook/04.08-multiple-subplots.html\n",
    "# fig = plt.figure()\n",
    "# ax1 = fig.add_axes([0.1, 0.55, 0.8, 0.4],\n",
    "#                    xticklabels=[], ylim=(-1.2, 1.2))\n",
    "# ax2 = fig.add_axes([0.1, 0.1, 0.8, 0.4],\n",
    "#                    ylim=(-1.2, 1.2))\n",
    "# # Meanings of the numbers in [0.1, 0.55, 0.8, 0.4]:\n",
    "# #     0.1 - distance from the left edge of fig (grey area)\n",
    "# #     0.55 - distance between the upper and lower subplots (0.5: they touch each other)\n",
    "# #     0.8 - distance from the right edge of fig (grey area)\n",
    "# #     0.4 - area assigned to the upper/lower subplot (ax1/ax2) along the vertical axes\n",
    "# # Experiment with these numbers to get a better feeling for them\n",
    "\n",
    "# x = np.linspace(0, 10)\n",
    "# ax1.plot(np.sin(x))\n",
    "# ax2.plot(np.cos(x));\n",
    "\n",
    "# fig, ax = plt.subplots()\n",
    "# ax\n",
    "\n",
    "\n",
    "# fig = plt.figure()\n",
    "# # fig\n",
    "# ax1 = fig.add_axes([0.1, 0.65, 0.8, 0.4],\n",
    "#                    xlim=(1961, 1980), ylim=(0, 70),\n",
    "#                    xlabel='year', ylabel='counts',\n",
    "#                    title='Number of songs recorded over the years')\n",
    "# ax2 = fig.add_axes([0.1, 0.1, 0.8, 0.4],\n",
    "#                    xlim=(1961, 1970), ylim=(0, 70),\n",
    "#                    xlabel='year', ylabel='counts',\n",
    "#                    title='Number of songs recorded over the years')\n",
    "# # display(type(ax1))\n",
    "#\n",
    "# ax1.plot(year, counts, color='steelblue', linewidth=3, alpha=0.8)    # alpha: transparency (0-1)\n",
    "# ax2.plot(year, counts, color='purple', linewidth=3, alpha=0.8);    # alpha: transparency (0-1)"
   ],
   "metadata": {
    "collapsed": false
   }
  },
  {
   "cell_type": "markdown",
   "source": [
    "##### Histogram"
   ],
   "metadata": {
    "collapsed": false
   }
  },
  {
   "cell_type": "markdown",
   "source": [
    "Use Pandas to extract song lengths as a `pd.Series` object (`<pd.Series object> = <pd.df>['<column>']`)."
   ],
   "metadata": {
    "collapsed": false
   }
  },
  {
   "cell_type": "code",
   "execution_count": 1,
   "outputs": [],
   "source": [
    "# Get the song lengths as a pd.Series object\n"
   ],
   "metadata": {
    "collapsed": false
   }
  },
  {
   "cell_type": "code",
   "execution_count": 2,
   "outputs": [],
   "source": [
    "# Convert the song lengths into a NumPy array (using <song lengths>.to_numpy() or np.array(<song lengths>))\n"
   ],
   "metadata": {
    "collapsed": false
   }
  },
  {
   "cell_type": "markdown",
   "source": [
    "###### 1. Matplotlib version\n",
    "[Matplotlib histogram example](https://matplotlib.org/stable/gallery/statistics/hist.html)\n",
    "\n",
    "Plot the histogram of the song lengths using Matplotlib.\n",
    "\n",
    "Minimal version: `plt.hist(<x>, bins=<number of bins>);`\n",
    "\n",
    "Alternatively:\n",
    "`ax = plt.axes()`\n",
    "`ax.set(xlabel='...', ylabel='...', title='...')`\n",
    "`ax.hist(<x>, bins=<number of bins>)`\n",
    "\n",
    "As for the plot styles, there are a lot of [available styles](https://www.dunderdata.com/blog/view-all-available-matplotlib-styles) that can be also shown in code using `plt.style.available`. See also [this](https://www.analyticsvidhya.com/blog/2021/08/exploring-matplotlib-stylesheets-for-data-visualization/).\n",
    "\n",
    "Alternatively, plot style can be set using `sb.set_theme(palette='...')` (or just `sb.set()`, but that function might get deprecated and removed from *Seaborn* in the future). See [`sb_set_theme()` documentation](https://seaborn.pydata.org/generated/seaborn.set_theme.html) for the function's parameters and defaults. For `palette='...'` use any of the palettes shown with `plt.style.available`, or any of [these](https://matplotlib.org/stable/users/explain/colors/colormaps.html#qualitative), or..."
   ],
   "metadata": {
    "collapsed": false
   }
  },
  {
   "cell_type": "code",
   "execution_count": 3,
   "outputs": [],
   "source": [
    "# Set plot style using sb.set_theme(palette='Palette2')\n",
    "\n",
    "# Plot the histogram - x: song time in [sec]; y: number of songs; 40 bins\n",
    "\n",
    "# Minimal version\n",
    "\n",
    "# A more detailed version\n"
   ],
   "metadata": {
    "collapsed": false
   }
  },
  {
   "cell_type": "markdown",
   "source": [
    "###### 2. Plotnine version\n",
    "[Plotnine histogram example](https://plotnine.readthedocs.io/en/stable/generated/plotnine.geoms.geom_histogram.html#plotnine.geoms.geom_histogram)\n",
    "\n",
    "Plot the histogram of the song lengths using *Plotnine*.\n",
    "\n",
    "A minimal, but effective version:\n",
    "`plot = ggplot(songs, aes(x='<x>'))`\n",
    "`plot + geom_histogram(bins=40)`\n",
    "\n",
    "A more detailed version:\n",
    "`(`\n",
    "&emsp;&emsp;`ggplot(songs, aes(x='<x>')) +`\n",
    "&emsp;&emsp;`geom_histogram(bins=40, color='<color>', fill='<fill>', size='<outline thickness>', alpha=<transparency, 0-1>) +`\n",
    "&emsp;&emsp;`labs(x='<x>', y='count', title='<title>')`\n",
    "`).draw()`\n",
    "\n",
    "[Excellent tutorial on plotnine](https://realpython.com/ggplot-python/)."
   ],
   "metadata": {
    "collapsed": false
   }
  },
  {
   "cell_type": "code",
   "execution_count": 57,
   "outputs": [],
   "source": [
    "# Minimal version\n",
    "# plot = ggplot(songs, aes(x='Duration'))\n",
    "# plot + geom_histogram(bins=40)\n"
   ],
   "metadata": {
    "collapsed": false
   }
  },
  {
   "cell_type": "markdown",
   "source": [
    "To avoid the annoying text output like `<ggplot: (177159008578)>` under the plot, use the following syntax:\n",
    "\n",
    "`(`\n",
    "&emsp;&emsp;`ggplot(songs, aes(x='<x>')) +`\n",
    "&emsp;&emsp;`geom_histogram(bins=40, color='<color>', fill='<fill>', size='<outline thickness>', alpha=<transparency, 0-1>) +`\n",
    "&emsp;&emsp;`labs(x='<x>', y='count', title='<title>')`\n",
    "`).draw()`"
   ],
   "metadata": {
    "collapsed": false
   }
  },
  {
   "cell_type": "code",
   "execution_count": 3,
   "outputs": [],
   "source": [],
   "metadata": {
    "collapsed": false
   }
  },
  {
   "cell_type": "markdown",
   "source": [
    "##### Bar graph"
   ],
   "metadata": {
    "collapsed": false
   }
  },
  {
   "cell_type": "markdown",
   "source": [
    "How many Rolling Stones songs have reached Billboard Top 50?"
   ],
   "metadata": {
    "collapsed": false
   }
  },
  {
   "cell_type": "markdown",
   "source": [
    "Read the dataset (`'../data/stones_analysis.csv'`) and make some minor transformations.\n",
    "\n",
    "`pd.read_csv()` returns a `pd.DataFrame` object.\n",
    "\n",
    "As for specifying the path of the dataset properly, see [this](https://stackoverflow.com/questions/35384358/how-to-open-my-files-in-data-folder-with-pandas-using-relative-path) (more specifically, **both** [this](https://stackoverflow.com/a/35384414/1899061) and [this](https://stackoverflow.com/a/43600253/1899061))."
   ],
   "metadata": {
    "collapsed": false
   }
  },
  {
   "cell_type": "code",
   "execution_count": 4,
   "outputs": [],
   "source": [
    "# Get the songs as a pd.DataFrame object from 'data/The Rolling Stones songs dataset, v1.csv', or from\n",
    "# '../data/stones_analysis.csv', or '../../data/stones_analysis.csv', or ..., \n",
    "# depending on where the csv file is located\n"
   ],
   "metadata": {
    "collapsed": false
   }
  },
  {
   "cell_type": "markdown",
   "source": [
    "Add another column, `Top100`: a song has reached the US Top 100 chart (`Yes`), or it hasn't (`No`)."
   ],
   "metadata": {
    "collapsed": false
   }
  },
  {
   "cell_type": "code",
   "execution_count": 4,
   "outputs": [],
   "source": [],
   "metadata": {
    "collapsed": false
   }
  },
  {
   "cell_type": "markdown",
   "source": [
    "Create the index of the songs that HAVE reached the US Top 100 chart : `i = songs.loc[songs['US'] != 'No'].index` or `i = np.array(songs.loc[songs['US'] != 'No'].index)`."
   ],
   "metadata": {
    "collapsed": false
   }
  },
  {
   "cell_type": "code",
   "execution_count": 4,
   "outputs": [],
   "source": [],
   "metadata": {
    "collapsed": false
   }
  },
  {
   "cell_type": "markdown",
   "source": [
    "Change the values of `Top100` corresponding to the created index to `Yes`. **Make sure to work on a <u>copy</u> of the `Top100` columns (e.g., `top100 = songs.Top100.copy()`), to avoid the caveat of working on the dataframe directly.**"
   ],
   "metadata": {
    "collapsed": false
   }
  },
  {
   "cell_type": "code",
   "execution_count": 4,
   "outputs": [],
   "source": [],
   "metadata": {
    "collapsed": false
   }
  },
  {
   "cell_type": "markdown",
   "source": [
    "Check if the newly added `Top100` column is now OK. Try this using the index created in the previous step, as well as using `i = songs.loc[songs['US'] != 'No'].index` directly."
   ],
   "metadata": {
    "collapsed": false
   }
  },
  {
   "cell_type": "code",
   "execution_count": 4,
   "outputs": [],
   "source": [],
   "metadata": {
    "collapsed": false
   }
  },
  {
   "cell_type": "markdown",
   "source": [
    "<u>Save this version as a new *.csv* file, for use in the subsequent examples.</u> (`<pd.df>.to_csv('<path>')`)"
   ],
   "metadata": {
    "collapsed": false
   }
  },
  {
   "cell_type": "code",
   "execution_count": 4,
   "outputs": [],
   "source": [],
   "metadata": {
    "collapsed": false
   }
  },
  {
   "cell_type": "markdown",
   "source": [
    "###### Preparing the data for plotting the bar graph"
   ],
   "metadata": {
    "collapsed": false
   }
  },
  {
   "cell_type": "markdown",
   "source": [
    "Group the data - group the songs by the year of release."
   ],
   "metadata": {
    "collapsed": false
   }
  },
  {
   "cell_type": "code",
   "execution_count": 4,
   "outputs": [],
   "source": [],
   "metadata": {
    "collapsed": false
   }
  },
  {
   "cell_type": "markdown",
   "source": [
    "Use `get_group(<year>)` to get all songs for a selected year and `value_counts()` over the resulting group's `Top100` column (showing the `Yes` and `No` subgroups). This is a precursor to creating the data for the y-axis of the bar graph."
   ],
   "metadata": {
    "collapsed": false
   }
  },
  {
   "cell_type": "code",
   "execution_count": 4,
   "outputs": [],
   "source": [],
   "metadata": {
    "collapsed": false
   }
  },
  {
   "cell_type": "markdown",
   "source": [
    "Build the data to plot by extracting relevant items from each group."
   ],
   "metadata": {
    "collapsed": false
   }
  },
  {
   "cell_type": "markdown",
   "source": [
    "For x-axis, use `unique()` over the `Year_released` column and then `np.sort()` the results."
   ],
   "metadata": {
    "collapsed": false
   }
  },
  {
   "cell_type": "code",
   "execution_count": 4,
   "outputs": [],
   "source": [],
   "metadata": {
    "collapsed": false
   }
  },
  {
   "cell_type": "markdown",
   "source": [
    "For y-axis, create the lists of the numbers of the songs that have reached the US Top 100 (`in_top100`) and of those that haven't (`not_in_top100`).\n",
    "(Start from two empty lists. Loop over the sorted list of years created in the previous step, `get_group()` for each year and append the `value_counts()['Yes']` of the `Top100` column of the current year (`y['Top100']`) to `in_top50` if any of `y['Top100']` has the value `Yes`, otherwise append 0. Do the similar thing for `not_in_top100`. Display both lists in the end to double-check the result.)"
   ],
   "metadata": {
    "collapsed": false
   }
  },
  {
   "cell_type": "code",
   "execution_count": 4,
   "outputs": [],
   "source": [],
   "metadata": {
    "collapsed": false
   }
  },
  {
   "cell_type": "markdown",
   "source": [
    "And now plot the bar graph. Based on the second example from [here](https://pandas.pydata.org/pandas-docs/stable/reference/api/pandas.DataFrame.plot.bar.html) (using `<pd.df>.plot.bar()`, not Matplotlib or Seaborn).\n",
    "For a complete list of parameters used in `**kwargs`, see [this](https://pandas.pydata.org/pandas-docs/stable/reference/api/pandas.DataFrame.plot.html).\n",
    "For a list of named colors (Matplotlib named colors), see [here](https://matplotlib.org/stable/gallery/color/named_colors.html#css-colors)."
   ],
   "metadata": {
    "collapsed": false
   }
  },
  {
   "cell_type": "markdown",
   "source": [
    "First create an auxiliary dataframe to use for plotting. Use `in_top50` and `not_in_top50` as the columns, <u>and the sorted list of years created above as the index of the dataframe</u>."
   ],
   "metadata": {
    "collapsed": false
   }
  },
  {
   "cell_type": "code",
   "execution_count": 5,
   "outputs": [],
   "source": [
    "# # The role-model example from https://pandas.pydata.org/pandas-docs/stable/reference/api/pandas.DataFrame.plot.bar.html\n",
    "# speed = [0.1, 17.5, 40, 48, 52, 69, 88]\n",
    "# lifespan = [2, 8, 70, 1.5, 25, 12, 28]\n",
    "# index = ['snail', 'pig', 'elephant', 'rabbit', 'giraffe', 'coyote', 'horse']\n",
    "# df = pd.DataFrame({'speed': speed, 'lifespan': lifespan}, index=index)\n"
   ],
   "metadata": {
    "collapsed": false
   }
  },
  {
   "cell_type": "markdown",
   "source": [
    "[Pandas bargraph example](https://pandas.pydata.org/docs/reference/api/pandas.DataFrame.plot.bar.html)\n",
    "\n",
    "Use `ax = <pd.df>.plot.bar()` to plot the bargraph.\n",
    "\n",
    "Relevant parameters:\n",
    "- `rot=<rotation angle [degrees]>` for the x-axis labels\n",
    "- `ylim=(<from>, <to>)`\n",
    "- `color={'In Top 50': 'limegreen', 'Not in Top 50': 'navajowhite'}` (for a list of Matplotlib named colors, see [here](https://matplotlib.org/stable/gallery/color/named_colors.html#css-colors))\n",
    "- `edgecolor='<color of bin lines>'`\n",
    "- `title='<title>'`\n",
    "- `xlabel='<xlabel>'`\n",
    "- `ylabel='<ylabel>'`\n",
    "- `fontsize=<fontsize>` (for all text; suitable fontsizes are 10, 12,...)\n",
    "- `stacked=True` (the bins for the same x-axis value stacked on top of one another)\n",
    "\n",
    "The returned value (`ax`) is usually unnecessary and can be omitted."
   ],
   "metadata": {
    "collapsed": false
   }
  },
  {
   "cell_type": "code",
   "execution_count": 5,
   "outputs": [],
   "source": [],
   "metadata": {
    "collapsed": false
   }
  },
  {
   "cell_type": "markdown",
   "source": [
    "##### Box plot\n",
    "[Seaborn boxplot example](https://seaborn.pydata.org/generated/seaborn.boxplot.html) (used here as the role model)\n",
    "\n",
    "For Seaborn color palette names see [this](https://seaborn.pydata.org/generated/seaborn.color_palette.html#seaborn.color_palette) or [this](https://10xsoft.org/courses/data-analysis/mastering-data-visualization-with-python/section-4-data-visualization-using-seaborn/colour-palettes-seaborn/). To list the names of some ('quantitative') Seaborn color palettes, use `sb.palettes.SEABORN_PALETTES.keys()` (see [this](https://10xsoft.org/courses/data-analysis/mastering-data-visualization-with-python/section-4-data-visualization-using-seaborn/colour-palettes-seaborn/) and [this](https://www.codecademy.com/article/seaborn-design-ii) for additional named palettes)."
   ],
   "metadata": {
    "collapsed": false
   }
  },
  {
   "cell_type": "markdown",
   "source": [
    "Read the dataset (`'data/stones_analysis_top100.csv'`).\n",
    "\n",
    "`pd.read_csv()` returns a `pd.DataFrame` object.\n",
    "\n",
    "As for specifying the path of the dataset properly, see [this](https://stackoverflow.com/questions/35384358/how-to-open-my-files-in-data-folder-with-pandas-using-relative-path) (more specifically, **both** [this](https://stackoverflow.com/a/35384414/1899061) and [this](https://stackoverflow.com/a/43600253/1899061))."
   ],
   "metadata": {
    "collapsed": false
   }
  },
  {
   "cell_type": "code",
   "execution_count": 6,
   "outputs": [],
   "source": [
    "# Get the songs as a pd.DataFrame object from 'data/stones_analysis_top100.csv', or from\n",
    "# '../data/stones_analysis_top100.csv', or '../../data/stones_analysis_top100.csv.csv', or ..., depending on where the csv file is located\n"
   ],
   "metadata": {
    "collapsed": false
   }
  },
  {
   "cell_type": "markdown",
   "source": [
    "Use `sb.boxplot()` to plot some boxplots.\n",
    "\n",
    "For a single-column boxplot, relevant parameters are `y=<pd.df>['column']` (for 'vertical' boxplot) or `x=<pd.df>['column']` (for 'horizontal' boxplot), and `palette='palette'` (e.g., 'Set3', 'pastel', ...; see the links above for other named color palettes).\n",
    "\n",
    "For a multiple-column boxplot, relevant parameters are `data=<pd.df>[['column1', 'column2',...]]`, `orient='v'` (for 'vertical' boxplot) and `palette='palette'`."
   ],
   "metadata": {
    "collapsed": false
   }
  },
  {
   "cell_type": "code",
   "execution_count": 7,
   "outputs": [],
   "source": [
    "# display(sb.palettes.SEABORN_PALETTES.keys())\n",
    "\n",
    "# For a single column (e.g., Duration)\n",
    "# # sb.boxplot(x=songs.Duration, palette='Set1');\n",
    "# sb.boxplot(y=songs.Duration, palette='Set1');\n",
    "\n",
    "# For multiple columns (e.g., energy and acousticness)\n"
   ],
   "metadata": {
    "collapsed": false
   }
  },
  {
   "cell_type": "markdown",
   "source": [
    "##### Violin plot\n",
    "[Seaborn violin plot example](https://seaborn.pydata.org/generated/seaborn.violinplot.html)\n",
    "\n",
    "Combines box plot and density plot. Based on [this](https://stackoverflow.com/questions/46134113/seaborn-violin-plot-from-pandas-dataframe-each-column-its-own-separate-violin-p) and [this](https://seaborn.pydata.org/generated/seaborn.violinplot.html)."
   ],
   "metadata": {
    "collapsed": false
   }
  },
  {
   "cell_type": "markdown",
   "source": [
    "Read the dataset (`'data/stones_analysis_top100.csv'`).\n",
    "\n",
    "`pd.read_csv()` returns a `pd.DataFrame` object.\n",
    "\n",
    "As for specifying the path of the dataset properly, see [this](https://stackoverflow.com/questions/35384358/how-to-open-my-files-in-data-folder-with-pandas-using-relative-path) (more specifically, **both** [this](https://stackoverflow.com/a/35384414/1899061) and [this](https://stackoverflow.com/a/43600253/1899061))."
   ],
   "metadata": {
    "collapsed": false
   }
  },
  {
   "cell_type": "code",
   "execution_count": 8,
   "outputs": [],
   "source": [
    "# Get the songs as a pd.DataFrame object from 'data/stones_analysis_top100.csv', or from\n",
    "# '../data/stones_analysis_top100.csv', or '../../data/stones_analysis_top100.csv.csv', or ..., depending on where the csv file is located\n"
   ],
   "metadata": {
    "collapsed": false
   }
  },
  {
   "cell_type": "markdown",
   "source": [
    "Use `sb.violinplot()` like: `sb.violinplot(x=<pd.df>.loc[<selected indices for <column 1>, '<column 1>'], y=<pd.df>['<column 2>'], palette='<palette>')`.\n",
    "\n",
    "For example, if the violin plot should represent density/boxplot diagram of song `Duration` in certain `Year`s (`Year_released`s), then `<column 1>` is `Year` and `<column 2>` is `Duration`. Good values for `'<palette>'` are, e.g., 'Set3', 'pastel',...).\n",
    "\n",
    "Try setting the index of selected observations both implicitly (directly in the `x` parameter) and explicitly (before the call to `sb.violinplot()`) and then using `x=<pd.df>.loc[<index>, '<column for x-axis>']`."
   ],
   "metadata": {
    "collapsed": false
   }
  },
  {
   "cell_type": "code",
   "execution_count": 8,
   "outputs": [],
   "source": [],
   "metadata": {
    "collapsed": false
   }
  },
  {
   "cell_type": "markdown",
   "source": [
    "##### Heat map\n",
    "[Seaborn heat map example](https://seaborn.pydata.org/generated/seaborn.heatmap.html) (used here as the role model)\n",
    "\n",
    "To create a heatmap, create the corresponding pivot table first. [An intuitive visual explanation of pivot tables](https://support.microsoft.com/en-us/office/overview-of-pivottables-and-pivotcharts-527c8fa3-02c0-445a-a2db-7794676bce96#:~:text=A%20PivotTable%20is%20an%20interactive,unanticipated%20questions%20about%20your%20data.).\n"
   ],
   "metadata": {
    "collapsed": false
   }
  },
  {
   "cell_type": "markdown",
   "source": [
    "Read the dataset (`'data/stones_analysis_top100.csv'`). This dataset already has been saved when plotting the bar graph above, so it already has the `Top100` column.\n",
    "\n",
    "`pd.read_csv()` returns a `pd.DataFrame` object.\n",
    "\n",
    "As for specifying the path of the dataset properly, see [this](https://stackoverflow.com/questions/35384358/how-to-open-my-files-in-data-folder-with-pandas-using-relative-path) (more specifically, **both** [this](https://stackoverflow.com/a/35384414/1899061) and [this](https://stackoverflow.com/a/43600253/1899061))."
   ],
   "metadata": {
    "collapsed": false
   }
  },
  {
   "cell_type": "code",
   "execution_count": 9,
   "outputs": [],
   "source": [
    "# Get the songs as a pd.DataFrame object from 'data/stones_analysis_top100.csv', or from\n",
    "# '../data/stones_analysis_top100.csv', or '../../data/stones_analysis_top100.csv', \n",
    "# or ..., depending on where the csv file is located\n"
   ],
   "metadata": {
    "collapsed": false
   }
  },
  {
   "cell_type": "markdown",
   "source": [
    "Categorize songs according to their *valence*.\n",
    "Insert a new column, e.g. `valence_category` and set it to the default value `Medium`. Then split the range of `valence` to five subranges, `very-Low` to `very_high` (find the `max()` of `valence` first). Each such a subrange is actually an index of selected songs, based on the value of `valence` (e.g., `very_low = songs['valence'] < 10`). Then use `<pd.df>.loc[<index of selected observations>, <relevant column>]` to change the default value `Medium` where appropriate (e.g., `songs.loc[very_low, 'valence_category'] = 'Very Low'`)."
   ],
   "metadata": {
    "collapsed": false
   }
  },
  {
   "cell_type": "code",
   "execution_count": 9,
   "outputs": [],
   "source": [],
   "metadata": {
    "collapsed": false
   }
  },
  {
   "cell_type": "code",
   "execution_count": 9,
   "outputs": [],
   "source": [],
   "metadata": {
    "collapsed": false
   }
  },
  {
   "cell_type": "markdown",
   "source": [
    "Rearrange the categories of `valence_category` to make the output natural.\n",
    "Use `<pd.df>['<column>'] = pd.Categorical(<pd.df>[<column>], categories=['<cat1>, <cat2>, ...'], ordered=True)`. In this example, order categories from `Very High` to `Very Low`."
   ],
   "metadata": {
    "collapsed": false
   }
  },
  {
   "cell_type": "code",
   "execution_count": 9,
   "outputs": [],
   "source": [],
   "metadata": {
    "collapsed": false
   }
  },
  {
   "cell_type": "markdown",
   "source": [
    "Create a suitable pivot table. Use `<pivot table> = <pd.df>.pivot_table(values='<column with values to show on the heatmap>', index='<categorical index>', columns='<column>')`\n",
    "- `values`: e.g. `loudness`\n",
    "- `index`: to be shown on y-axis, e.g. `valence_category`\n",
    "- `columns`: to be shown on x-axis, e.g. `Year_released`"
   ],
   "metadata": {
    "collapsed": false
   }
  },
  {
   "cell_type": "code",
   "execution_count": 10,
   "outputs": [],
   "source": [
    "\n",
    "# # Alternatively\n",
    "# s = songs.pivot_table(values='Duration', index=['Very Low', 'Low', 'Medium', 'High', 'Very High'], columns='Year')"
   ],
   "metadata": {
    "collapsed": false
   }
  },
  {
   "cell_type": "markdown",
   "source": [
    "Plot the corresponding heatmap. Based on [this](https://pythonbasics.org/seaborn-heatmap/), [this](https://seaborn.pydata.org/generated/seaborn.heatmap.html), and [this](https://stackoverflow.com/a/29648332/1899061).\n",
    "\n",
    "It is often a good idea to change the default figure size first, using `sb.set_theme(rc={'figure.figsize': (<x_size>, <y_size>)})`, to avoid cluttering on the heatmap. Here `rc` stands for 'run command' - essentially, configurations which will execute when running the code. Experiment with `(<x_size>, <y_size>)`. The values that have worked well in this example: (15.7, 5.27).\n",
    "\n",
    "Then use `sb.heatmap(data=<pivot table>, annot=True, fmt='<format string>', cmap='<color map>');`\n",
    "- `data=<pivot table>`: the pivot table created in the previous step\n",
    "- `annot=True`: annotate heatmap cells with values\n",
    "- `fmt='<format_string>'`: for example, use `'.0f'` to show int values in annotations, not scientific notation (`'g'` for using mixed int and float annotations)\n",
    "- `cmap='<color map>'`: color map (see [this](https://10xsoft.org/courses/data-analysis/mastering-data-visualization-with-python/section-4-data-visualization-using-seaborn/colour-palettes-seaborn/)); a good one is 'icefire'"
   ],
   "metadata": {
    "collapsed": false
   }
  },
  {
   "cell_type": "code",
   "execution_count": 10,
   "outputs": [],
   "source": [],
   "metadata": {
    "collapsed": false
   }
  },
  {
   "cell_type": "markdown",
   "source": [
    "##### A fancier example\n",
    "Average duration of songs over the years, represented as circles with sizes proportional to the numbers of songs."
   ],
   "metadata": {
    "collapsed": false
   }
  },
  {
   "cell_type": "code",
   "execution_count": 11,
   "outputs": [],
   "source": [
    "# songs = pd.read_csv('data/stones_analysis.csv')\n",
    "# songs_by_year = songs.groupby('Year_released')\n",
    "# years = np.sort(songs.Year_released.unique())\n",
    "# years\n",
    "# \n",
    "# avg_duration = []\n",
    "# for year in years:\n",
    "#     avg_duration.append(np.mean(songs_by_year.get_group(year)['Duration']))\n",
    "# avg_duration = np.array(avg_duration)\n",
    "# \n",
    "# rng = np.random.RandomState(370)\n",
    "# \n",
    "# colors = rng.choice(100, size=len(years), replace=False)          # random sample, no duplicates\n",
    "# # display(colors)\n",
    "# \n",
    "# sizes = []\n",
    "# for year in years:\n",
    "#     sizes.append(len(songs_by_year.get_group(year)) * 100)                  # sizes proportional to the numbers of songs\n",
    "# \n",
    "# plt.title('Song duration over the years', fontdict={'size': 20})\n",
    "# plt.xlabel('Year')\n",
    "# plt.ylabel('Duration')\n",
    "# plt.xlim(1961, 1971)\n",
    "# plt.ticklabel_format(useOffset=False)\n",
    "# plt.scatter(years, avg_duration,\n",
    "#             c=colors, s=sizes, alpha=0.3,                                   # alpha: the level of transparency\n",
    "#             cmap='Set1')                                                    # cmap: a pre-defined color map\n",
    "# plt.colorbar();                                                             # show color scale\n",
    "\n",
    "# # Alternatively, but without showing the colorbar\n",
    "# ax = plt.axes()\n",
    "# ax.set(xlabel='Year', ylabel='Duration', xlim=(1961, 1971),\n",
    "#        title='Song duration over the years')\n",
    "# ax.scatter(years, avg_duration,\n",
    "#            c=colors, s=sizes, alpha=0.3,                                    # alpha: the level of transparency\n",
    "#            cmap='Set1');                                                    # cmap: a pre-defined color map"
   ],
   "metadata": {
    "collapsed": false
   }
  }
 ],
 "metadata": {
  "kernelspec": {
   "display_name": "Python 3 (ipykernel)",
   "language": "python",
   "name": "python3"
  },
  "language_info": {
   "codemirror_mode": {
    "name": "ipython",
    "version": 3
   },
   "file_extension": ".py",
   "mimetype": "text/x-python",
   "name": "python",
   "nbconvert_exporter": "python",
   "pygments_lexer": "ipython3",
   "version": "3.10.0"
  }
 },
 "nbformat": 4,
 "nbformat_minor": 4
}
